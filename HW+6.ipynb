{
 "cells": [
  {
   "cell_type": "markdown",
   "metadata": {},
   "source": [
    "# Donovan Feist, u0924825, CH EN 2450"
   ]
  },
  {
   "cell_type": "markdown",
   "metadata": {},
   "source": [
    "# Homework 6: Linear Least-Squares Regression"
   ]
  },
  {
   "cell_type": "markdown",
   "metadata": {},
   "source": [
    "## Problem 1"
   ]
  },
  {
   "cell_type": "markdown",
   "metadata": {},
   "source": [
    "We saw in class how to derive the regression equations for a straight line and for a second order polynomial.\n",
    "Here, you will derive the equations for a polynomial of degree 3. Consider N data points $x_i$ and $y_i$.\n",
    "We wish to fit a model that has the form: $y=a_0+a_2x^2+a_3x^3$."
   ]
  },
  {
   "cell_type": "markdown",
   "metadata": {
    "collapsed": true
   },
   "source": [
    "### 1.1"
   ]
  },
  {
   "cell_type": "markdown",
   "metadata": {},
   "source": [
    "Write the least squares error $S = \\sum(y_i-f_i)^2$ and identify the unknown quantities."
   ]
  },
  {
   "cell_type": "markdown",
   "metadata": {},
   "source": [
    "The model we are asked to follow is $y=a_0+a_2x^2+a_3x^3$, which equals $f_i$. This means that $S = \\sum(y_i-f_i)^2$ becomes \\begin{array}{lcl} S = \\sum(y_i-a_0-a_2x_i^2-a_3x_i^3)^2 \\end{array}"
   ]
  },
  {
   "cell_type": "markdown",
   "metadata": {},
   "source": [
    "and the unknown quantities are \\begin{array}{lcl} a_0, a_2, and\\space a_3 \\end{array}."
   ]
  },
  {
   "cell_type": "markdown",
   "metadata": {},
   "source": [
    "### 1.2"
   ]
  },
  {
   "cell_type": "markdown",
   "metadata": {},
   "source": [
    "What are the conditions for which S is a minimum?"
   ]
  },
  {
   "cell_type": "markdown",
   "metadata": {},
   "source": [
    "\\begin{array}{lcl} S\\space is\\space a\\space minimum\\space iff \\space\\space\\space \\begin{cases}\n",
    "\\frac{\\partial S}{\\partial a_0}=0\\\\\n",
    "\\frac{\\partial S}{\\partial a_2}=0\\\\\n",
    "\\frac{\\partial S}{\\partial a_3}=0. \\end{cases} \\end{array}"
   ]
  },
  {
   "cell_type": "markdown",
   "metadata": {},
   "source": [
    "### 1.3"
   ]
  },
  {
   "cell_type": "markdown",
   "metadata": {},
   "source": [
    "In light of the previous question, write the system of linear equations that must be solved\n",
    "to find the unknown quantities."
   ]
  },
  {
   "cell_type": "markdown",
   "metadata": {},
   "source": [
    "\\begin{array}{lcl}\n",
    "\\frac{\\partial S}{\\partial a_0}=0 \\Rightarrow \\frac{\\partial S}{\\partial a_0}=-2\\sum(y_i-a_0-a_2x_i^2-a_3x_i^3)=0\\\\\n",
    "\\frac{\\partial S}{\\partial a_2}=0 \\Rightarrow \\frac{\\partial S}{\\partial a_2}=-2\\sum x_i^2(y_i-a_0-a_2x_i^2-a_3x_i^3)=0\\\\\n",
    "\\frac{\\partial S}{\\partial a_3}=0 \\Rightarrow \\frac{\\partial S}{\\partial a_3}=-2\\sum x_i^3 (y_i-a_0-a_2x_i^2-a_3x_i^3)=0. \\end{array}"
   ]
  },
  {
   "cell_type": "markdown",
   "metadata": {},
   "source": [
    "## Problem 2"
   ]
  },
  {
   "cell_type": "markdown",
   "metadata": {},
   "source": [
    "The heat capacity $C_p$ is the number of heat units needed to raise the temperature of 1 kg of matter by one\n",
    "degree. The heat capacity of a gas at various temperatures T is given by the following data:"
   ]
  },
  {
   "cell_type": "markdown",
   "metadata": {},
   "source": [
    "\n",
    "| Cp (J/kg/K) | -50  | -30  | 0    | 60   | 90   | 110  |\n",
    "|-------------|------|------|------|------|------|------|\n",
    "| T(K)        | 1270 | 1280 | 1350 | 1480 | 1580 | 1700 |\n"
   ]
  },
  {
   "cell_type": "markdown",
   "metadata": {},
   "source": [
    "### 2.1"
   ]
  },
  {
   "cell_type": "markdown",
   "metadata": {},
   "source": [
    "Perform a straight line fit for the data in Table 1 and plot your fit on top of the original data.\n",
    "Comment on your results. It is best to show the input data as dots on the plot to distinguish\n",
    "between your fit and the original data."
   ]
  },
  {
   "cell_type": "code",
   "execution_count": 45,
   "metadata": {},
   "outputs": [
    {
     "name": "stdout",
     "output_type": "stream",
     "text": [
      "Using a linear model yields: a_0= -506.95814977973737 and a_1= 0.3720264317180628\n"
     ]
    }
   ],
   "source": [
    "Cp=[-50,-30,0,60,90,110]\n",
    "T=[1270,1280,1350,1480,1580,1700]\n",
    "\n",
    "N=len(T)\n",
    "\n",
    "sumT=0\n",
    "for i in range(0, len(T)):\n",
    "    sumT=sumT+T[i]\n",
    "\n",
    "sumT_squared=0\n",
    "for i in range(0, len(T)):\n",
    "    sumT_squared=sumT_squared+(T[i])**2\n",
    "\n",
    "sumCp=0\n",
    "for i in range(0, len(Cp)):\n",
    "    sumCp=sumCp+Cp[i]\n",
    "\n",
    "sumTCp=0\n",
    "for i in range(0, len(T)):\n",
    "    sumTCp+=T[i]*Cp[i]\n",
    "    \n",
    "import numpy as np\n",
    "\n",
    "A=np.array([[N,sumT],[sumT,sumT_squared]])\n",
    "#print(A)\n",
    "b=np.array([[sumCp],[sumTCp]])\n",
    "#print(b)\n",
    "sol=np.linalg.solve(A,b)\n",
    "#print(sol)\n",
    "print(\"Using a linear model yields: a_0=\", sol[0,0], \"and a_1=\", sol[1,0])"
   ]
  },
  {
   "cell_type": "markdown",
   "metadata": {},
   "source": [
    "The calculations above lead to a line that fits the data having the equation: \\begin{array}{lcl} f_i=-506.96+0.37x_i. \\end{array}"
   ]
  },
  {
   "cell_type": "markdown",
   "metadata": {},
   "source": [
    "Superimposing this line on the original data yields:"
   ]
  },
  {
   "cell_type": "code",
   "execution_count": 46,
   "metadata": {},
   "outputs": [
    {
     "data": {
      "image/png": "[encoded data removed]",
      "text/plain": [
       "<Figure size 432x288 with 1 Axes>"
      ]
     },
     "metadata": {},
     "output_type": "display_data"
    }
   ],
   "source": [
    "f_i=[]\n",
    "for i in range(0,len(T)):\n",
    "    f_i.append(sol[0,0]+sol[1,0]*T[i])\n",
    "    #print(f_i)\n",
    "#print(f_i)\n",
    "\n",
    "import matplotlib.pyplot as plt\n",
    "plt.xlabel(\"T (K)\") # set x label\n",
    "plt.ylabel(\"Cp (J/kg/K)\") # set y label\n",
    "plt.scatter(T,Cp,s=50,c=\"red\",label=\"original data\")\n",
    "plt.plot(T,f_i,\"b-\",label=\"fit line\")\n",
    "plt.legend() # display legend\n",
    "plt.grid(True,which=\"major\") # turn on major grid axes\n",
    "plt.grid(True,which=\"minor\") # turn on minor grid axes\n",
    "plt.show()"
   ]
  },
  {
   "cell_type": "markdown",
   "metadata": {},
   "source": [
    "The fit line matches the original date with fairly good accuracy. The most obvious outlier would be the data point (1270, -50). There is, however, a slight trend in the data that indicates the data is appoaching a maximum, suggesting that a quadridic fit might be more appropriate."
   ]
  },
  {
   "cell_type": "markdown",
   "metadata": {},
   "source": [
    "### 2.2"
   ]
  },
  {
   "cell_type": "markdown",
   "metadata": {},
   "source": [
    "Perform a quadratic fit for the data in Table 1 and plot your quadratic fit on top of the original\n",
    "data as well as the straight line fit. Comment on your results. You can either use the Normal\n",
    "equations or the standard form to fit the data."
   ]
  },
  {
   "cell_type": "code",
   "execution_count": 48,
   "metadata": {},
   "outputs": [
    {
     "data": {
      "image/png": "[encoded data removed]",
      "text/plain": [
       "<Figure size 432x288 with 1 Axes>"
      ]
     },
     "metadata": {},
     "output_type": "display_data"
    }
   ],
   "source": [
    "sumT_cubed=0\n",
    "for i in range(0, len(T)):\n",
    "    sumT_cubed+=(T[i])**3\n",
    "    \n",
    "sumT_to4=0\n",
    "for i in range(0, len(T)):\n",
    "    sumT_to4+=(T[i])**4\n",
    "    \n",
    "sumTto2Cp=0\n",
    "for i in range(0, len(T)):\n",
    "    sumTto2Cp+=Cp[i]*(T[i])**2\n",
    "\n",
    "A2=np.array([[N,sumT,sumT_squared],[sumT,sumT_squared,sumT_cubed],[sumT_squared,sumT_cubed,sumT_to4]])\n",
    "#print(A2)\n",
    "b2=np.array([[sumCp],[sumTCp],[sumTto2Cp]])\n",
    "#print(b2)\n",
    "sol2=np.linalg.solve(A2,b2)\n",
    "#print(sol2)\n",
    "\n",
    "f2_i=[]\n",
    "for i in range(0,len(T)):\n",
    "    f2_i.append(sol2[0,0]+sol2[1,0]*T[i]+sol2[2,0]*(T[i])**2)\n",
    "    #print(f2_i)\n",
    "#print(f2_i)\n",
    "\n",
    "plt.xlabel(\"T (K)\") # set x label\n",
    "plt.ylabel(\"Cp (J/kg/K)\") # set y label\n",
    "plt.scatter(T,Cp,s=50,c=\"red\",label=\"original data\")\n",
    "plt.plot(T,f_i,\"b-\",label=\"fit line\")\n",
    "plt.plot(T,f2_i,\"g-\",label=\"fit quadradic\")\n",
    "plt.legend() # display legend\n",
    "plt.grid(True,which=\"major\") # turn on major grid axes\n",
    "plt.grid(True,which=\"minor\") # turn on minor grid axes\n",
    "plt.show()\n",
    "\n"
   ]
  },
  {
   "cell_type": "markdown",
   "metadata": {},
   "source": [
    "### 2.3"
   ]
  },
  {
   "cell_type": "markdown",
   "metadata": {},
   "source": [
    "Based on the plots, which fit do you expect to be a more accurate model of the data? What\n",
    "number can quantify which curve is a better fit? Compute that number and compare it for both fits."
   ]
  },
  {
   "cell_type": "markdown",
   "metadata": {},
   "source": [
    "Based on the plots, the quadradic fit is a more accurate model."
   ]
  },
  {
   "cell_type": "markdown",
   "metadata": {},
   "source": [
    "A number that can quantify which cure is a better fit is the $R^2$ value."
   ]
  },
  {
   "cell_type": "code",
   "execution_count": 49,
   "metadata": {},
   "outputs": [
    {
     "name": "stdout",
     "output_type": "stream",
     "text": [
      "The R-squared values for the linear model and the quadradic model are 0.9607838580608656 and 0.9953673987441971 \n",
      "respectively.\n"
     ]
    }
   ],
   "source": [
    "yavg=1/len(T)*sumCp\n",
    "\n",
    "#computing the R^2 value for the line fit\n",
    "top=0\n",
    "for i in range(0,len(T)):\n",
    "    top+=(Cp[i]-f_i[i])**2\n",
    "bottom=0\n",
    "for i in range(0,len(T)):\n",
    "    bottom+=(Cp[i]-yavg)**2\n",
    "R2line=1-top/bottom\n",
    "#print(R2line)\n",
    "\n",
    "#computing the R^2 value for the quadradic fit\n",
    "top=0\n",
    "for i in range(0,len(T)):\n",
    "    top+=(Cp[i]-f2_i[i])**2\n",
    "R2quad=1-top/bottom\n",
    "#print(R2quad)\n",
    "\n",
    "print(\"The R-squared values for the linear model and the quadradic model are\",R2line, \"and\",R2quad,\"\\nrespectively.\")"
   ]
  },
  {
   "cell_type": "markdown",
   "metadata": {},
   "source": [
    "The closer to 1 an $R^2$ value is, the better a fit the model is. Because the $R^2$ value for the quadradic model is closer to 1 than the $R^2$ value of the linear model, we can conclude that the quadradic model is indeed more accurate."
   ]
  },
  {
   "cell_type": "markdown",
   "metadata": {},
   "source": [
    "## Problem 3"
   ]
  },
  {
   "cell_type": "markdown",
   "metadata": {},
   "source": [
    "The growth rate k (# bacteria per day), of a certain bacteria is reported as a function of oxygen concentration\n",
    "c (mg/L) (see Table 2 for date). It is known that such data can be modeled by the following equation: \\begin{array}{lcl} k=\\frac{k_{max}c^2}{c_s+c^2} \\end{array}"
   ]
  },
  {
   "cell_type": "markdown",
   "metadata": {},
   "source": [
    "where $c_s$ and $k_{max}$ are to be determined. We plan on using linear least-squares regression to fit this model\n",
    "to the data in Table 2."
   ]
  },
  {
   "cell_type": "markdown",
   "metadata": {},
   "source": [
    "### 3.1"
   ]
  },
  {
   "cell_type": "markdown",
   "metadata": {},
   "source": [
    "Use algebraic manipulation to transform this equation into a form suitable for regression\n",
    "to a straight line of the form: $y = a_0+a_1x$. (HINT: what happens if you take the reciprocal, 1/k,\n",
    "of the model given in equation 2?)"
   ]
  },
  {
   "cell_type": "markdown",
   "metadata": {},
   "source": [
    "We begin with \\begin{array}{lcl} k=\\frac{k_{max}c^2}{c_s+c^2}. \\end{array}"
   ]
  },
  {
   "cell_type": "markdown",
   "metadata": {},
   "source": [
    "Taking the reciprocal yeilds \\begin{array}{lcl} \\frac{1}{k}=\\frac{c_s+c^2}{k_{max}c^2}. \\end{array}"
   ]
  },
  {
   "cell_type": "markdown",
   "metadata": {},
   "source": [
    "Separating the fraction on the right hand side into two fractions yields \\begin{array}{lcl} \\frac{1}{k}=\\frac{c_s}{k_{max}c^2}+\\frac{1}{k_{max}}. \\end{array}"
   ]
  },
  {
   "cell_type": "markdown",
   "metadata": {},
   "source": [
    "Rearanging and separating the fractions yields \\begin{array}{lcl} \\frac{1}{k}=\\frac{1}{k_{max}}+\\frac{c_s}{k_{max}}\\times \\frac{1}{c^2}. \\end{array}"
   ]
  },
  {
   "cell_type": "markdown",
   "metadata": {},
   "source": [
    "Looking at the model this way, $\\frac{1}{k}$ represents $y$, $\\frac{1}{k_{max}}$ represents $a_0$, $\\frac{c_s}{k_{max}}$ represents $a_1$, and $\\frac{1}{c^2}$ represents $x$."
   ]
  },
  {
   "cell_type": "markdown",
   "metadata": {},
   "source": [
    "### 3.2"
   ]
  },
  {
   "cell_type": "markdown",
   "metadata": {},
   "source": [
    "Write down the linear system of equations that you need to solve to find $a_0$ and $a_1$. Use\n",
    "either the normal equations or the traditional form."
   ]
  },
  {
   "cell_type": "markdown",
   "metadata": {},
   "source": [
    "\\begin{array}{lcl} S=\\sum(y_i-f_i)^2 \\Rightarrow S=\\sum(y_i-a_0-a_1x)^2 \\end{array}"
   ]
  },
  {
   "cell_type": "markdown",
   "metadata": {},
   "source": [
    "\\begin{array}{lcl} S\\space is\\space a\\space minimum\\space iff \\space\\space\\space \\begin{cases}\n",
    "\\frac{\\partial S}{\\partial a_0}=0\\\\\n",
    "\\frac{\\partial S}{\\partial a_1}=0 \\end{cases} \\Rightarrow \\end{array}"
   ]
  },
  {
   "cell_type": "markdown",
   "metadata": {},
   "source": [
    "\\begin{array}{lcl}\n",
    "\\frac{\\partial S}{\\partial a_0}=-2\\sum(y_i-a_0-a_1x_i)=0\\\\\n",
    "\\frac{\\partial S}{\\partial a_1}=-2\\sum x_i(y_i-a_0-a_1x_i)=0. \\end{array}"
   ]
  },
  {
   "cell_type": "markdown",
   "metadata": {},
   "source": [
    "The two equations above can be manipulated and rearranged into the matricies\n",
    "$$\\begin{bmatrix}\n",
    "N & \\sum x_i\\\\\n",
    "\\sum x_i & \\sum x_i^2\n",
    "\\end{bmatrix}\n",
    "\\begin{bmatrix}\n",
    "a_0\\\\a_1\n",
    "\\end{bmatrix}=\n",
    "\\begin{bmatrix}\n",
    "\\sum y_i\\\\ \\sum x_iy_i \\end{bmatrix}$$\n"
   ]
  },
  {
   "cell_type": "markdown",
   "metadata": {},
   "source": [
    "### 3.3"
   ]
  },
  {
   "cell_type": "markdown",
   "metadata": {},
   "source": [
    "Solve the above system of equations for $a_0$ and $a_1$."
   ]
  },
  {
   "cell_type": "code",
   "execution_count": 50,
   "metadata": {},
   "outputs": [
    {
     "name": "stdout",
     "output_type": "stream",
     "text": [
      "This leads to a_0 and a_1 equaling 0.10363302535760648 and 0.2011175559544965 respectively.\n"
     ]
    }
   ],
   "source": [
    "c=np.array([.5,.8,1.5,2.5,4.0])\n",
    "k=np.array([1.1,2.4,5.3,7.6,8.0])\n",
    "\n",
    "xi=1/c**2\n",
    "#print(xi)\n",
    "\n",
    "yi=1/k\n",
    "#print(yi)\n",
    "\n",
    "A=np.array([[len(c), np.sum(xi)],[np.sum(xi),np.sum((xi)**2)]])\n",
    "#print(A)\n",
    "b=np.array([[np.sum(yi)],[np.sum(xi*yi)]])\n",
    "#print(b)\n",
    "sol=np.linalg.solve(A,b)\n",
    "#print(sol)\n",
    "\n",
    "print(\"This leads to a_0 and a_1 equaling\",sol[0,0],\"and\",sol[1,0],\"respectively.\")"
   ]
  },
  {
   "cell_type": "markdown",
   "metadata": {},
   "source": [
    "With $\\frac{1}{k_{max}}=a_0$, and $\\frac{c_s}{k_{max}}=a_1$, this leads to $k_{max}=1/a_0$ and $c_s=a_1k_{max}=\\frac{a_1}{a_0}$."
   ]
  },
  {
   "cell_type": "code",
   "execution_count": 51,
   "metadata": {},
   "outputs": [
    {
     "name": "stdout",
     "output_type": "stream",
     "text": [
      "The values of k_max and c_s are 9.649433629379246 and 1.9406705078858808 respectively.\n"
     ]
    }
   ],
   "source": [
    "k_max=1/sol[0,0]\n",
    "c_s=sol[1,0]/sol[0,0]\n",
    "\n",
    "print(\"The values of k_max and c_s are\",k_max,\"and\",c_s,\"respectively.\")"
   ]
  },
  {
   "cell_type": "markdown",
   "metadata": {},
   "source": [
    "### 3.4"
   ]
  },
  {
   "cell_type": "markdown",
   "metadata": {},
   "source": [
    "Compute the $R^2$ value for this fit and comment on your finding."
   ]
  },
  {
   "cell_type": "code",
   "execution_count": 53,
   "metadata": {},
   "outputs": [
    {
     "name": "stdout",
     "output_type": "stream",
     "text": [
      "The R-squared value is 0.9997358177195926 .\n"
     ]
    }
   ],
   "source": [
    "fi=sol[0,0]+sol[1,0]*xi\n",
    "#print(fi)\n",
    "#print(yi)\n",
    "\n",
    "yavg=1/len(yi)*np.sum(yi)\n",
    "#print(yavg)\n",
    "\n",
    "R2=1-(np.sum((yi-fi)**2))/(np.sum((yi-yavg)**2))\n",
    "print(\"The R-squared value is\", R2,\".\")"
   ]
  },
  {
   "cell_type": "markdown",
   "metadata": {},
   "source": [
    "The $R^2$ value extremely close 1, indicating that our original model $k=\\frac{k_{max}c^2}{c_s+c^2}$ (of which our linear model, $\\frac{1}{k}=\\frac{1}{k_{max}}+\\frac{c_s}{k_{max}}\\times \\frac{1}{c^2}$, is just a rearangement) is a very good model for the data."
   ]
  },
  {
   "cell_type": "markdown",
   "metadata": {},
   "source": [
    "### 3.5"
   ]
  },
  {
   "cell_type": "markdown",
   "metadata": {},
   "source": [
    "For an oxygen concentraion of 2.1 mg/L, what is the bacterial growth rate?"
   ]
  },
  {
   "cell_type": "code",
   "execution_count": 54,
   "metadata": {},
   "outputs": [
    {
     "data": {
      "text/plain": [
       "6.700710145916321"
      ]
     },
     "execution_count": 54,
     "metadata": {},
     "output_type": "execute_result"
    }
   ],
   "source": [
    "def growthrate(concentration):\n",
    "    f=k_max*concentration**2/(c_s+concentration**2)\n",
    "    return f\n",
    "growthrate(2.1)\n"
   ]
  },
  {
   "cell_type": "markdown",
   "metadata": {},
   "source": [
    "When the oxygen concentration is 2.1 mg/L, the growth rate of bacteria is 6.7007 bacteria/day."
   ]
  }
 ],
 "metadata": {
  "kernelspec": {
   "display_name": "Python 3",
   "language": "python",
   "name": "python3"
  },
  "language_info": {
   "codemirror_mode": {
    "name": "ipython",
    "version": 3
   },
   "file_extension": ".py",
   "mimetype": "text/x-python",
   "name": "python",
   "nbconvert_exporter": "python",
   "pygments_lexer": "ipython3",
   "version": "3.5.2"
  }
 },
 "nbformat": 4,
 "nbformat_minor": 2
}

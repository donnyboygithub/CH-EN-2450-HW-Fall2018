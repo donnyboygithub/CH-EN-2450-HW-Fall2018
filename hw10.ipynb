{
 "cells": [
  {
   "cell_type": "markdown",
   "metadata": {},
   "source": [
    "# HW 10 Boundary Value Problems"
   ]
  },
  {
   "cell_type": "markdown",
   "metadata": {},
   "source": [
    "# Donovan Feist u0924825"
   ]
  },
  {
   "cell_type": "markdown",
   "metadata": {},
   "source": [
    "## Problem 1"
   ]
  },
  {
   "cell_type": "markdown",
   "metadata": {},
   "source": [
    "Consider the steady state heat diffusion equation in a rod of extending from $x=0$ to $x=L$:\n",
    "\n",
    "$$\\frac{d^2T}{dx^2}=\\frac{-1}{\\lambda}e^{-\\frac{(x-a)^2}{b^2}}\n",
    "\\space\\space\\space\\space\\space\\space\\space\\space\\space\\space\\space(1)$$\n",
    "\n",
    "The right-hand-side of this equation is a source term that contributes to heating the rod and is a function\n",
    "of the $x$ location on the rod."
   ]
  },
  {
   "cell_type": "markdown",
   "metadata": {},
   "source": [
    "### Part 1"
   ]
  },
  {
   "cell_type": "markdown",
   "metadata": {},
   "source": [
    "Using the finite difference method, discretize equation $(1)$ at an arbitrary interior point $i\\space\\space\n",
    "(1 < i < n)$. Do this symbolically and use $x_i$ in the source term."
   ]
  },
  {
   "cell_type": "markdown",
   "metadata": {},
   "source": [
    "I will discretize the equation using the central difference formula: $$\\frac{d^2T}{dx^2}\\approx \\frac{T_{i-1}-2 T_i+T_{i+1}}{\\Delta x^2}=\\frac{-1}{\\lambda}e^{-\\frac{(x_i-a)^2}{b^2}}\n",
    "\\space\\space\\space\\space\\space\\space\\space\\space\\space\\space(2)$$"
   ]
  },
  {
   "cell_type": "markdown",
   "metadata": {},
   "source": [
    "### Part 2"
   ]
  },
  {
   "cell_type": "markdown",
   "metadata": {},
   "source": [
    "For $N = 5$ grid points, show the system of equations (in matrix form) that must be solved\n",
    "subject to the Dirichlet boundary conditions:\n",
    "\n",
    "$$\n",
    "\\left\\{ \\begin{array}{rcl}\n",
    "T=\\alpha & \\mbox{at}\n",
    "& x=0 \\\\ T=\\beta & \\mbox{at} & T=L\n",
    "\\end{array}\\right.$$"
   ]
  },
  {
   "cell_type": "markdown",
   "metadata": {},
   "source": [
    "Starting from the formula:\n",
    "$$\\frac{T_{i-1}-2 T_i+T_{i+1}}{\\Delta x^2}=\\frac{-1}{\\lambda}e^{-\\frac{(x_i-a)^2}{b^2}}\n",
    "\\space\\space\\space\\space\\space\\space\\space\\space\\space\\space\\space\\space\\space\\space\\space (3)$$\n",
    "multiplying both sides by $\\Delta x^2$ yields\n",
    "$$T_{i-1}-2 T_i+T_{i+1}=\\frac{-\\Delta x^2}{\\lambda}e^{-\\frac{(x_i-a)^2}{b^2}}\n",
    "\\space\\space\\space\\space\\space\\space\\space\\space\\space\\space\\space\\space\\space\\space\\space(4)$$"
   ]
  },
  {
   "cell_type": "markdown",
   "metadata": {},
   "source": [
    "Because all of the $T_i$'s are already on the left side, this equation is ready to be used to form a system of linear equations. If $N=5$ grid points in total, then there are 3 interior grid points, with point 1 and 5 being the boundaries. Evaluating the equation directly above for points 2, 3, and 4 yields:"
   ]
  },
  {
   "cell_type": "markdown",
   "metadata": {},
   "source": [
    "$$T_1=\\alpha$$\n",
    "$$T_1-2 T_2+T_3=\\frac{-\\Delta x^2}{\\lambda}e^{-\\frac{(x_2-a)^2}{b^2}}$$\n",
    "$$T_2-2 T_3+T_4=\\frac{-\\Delta x^2}{\\lambda}e^{-\\frac{(x_3-a)^2}{b^2}}$$\n",
    "$$T_3-2 T_4+T_5=\\frac{-\\Delta x^2}{\\lambda}e^{-\\frac{(x_4-a)^2}{b^2}}$$\n",
    "$$T_5=\\beta$$"
   ]
  },
  {
   "cell_type": "markdown",
   "metadata": {},
   "source": [
    "Putting this system into matrix form yeilds:"
   ]
  },
  {
   "cell_type": "markdown",
   "metadata": {},
   "source": [
    "$$\n",
    "\\left[ \\begin{array}{cc}\n",
    "1 & 0 & 0 & 0 & 0 \\\\\n",
    "1 & -2 & 1 & 0 & 0 \\\\\n",
    "0 & 1 & -2 & 1 & 0 \\\\\n",
    "0 & 0 & 1 & -2 & 1 \\\\\n",
    "0 & 0 & 0 & 0 & 1 \\end{array} \\right]\n",
    "\\left[ \\begin{array}{cc}\n",
    "T_1\\\\T_2\\\\T_3\\\\T_4\\\\T_5 \\end{array} \\right]\n",
    "= \\left[ \\begin{array}{cc}\n",
    "\\alpha \\\\\n",
    "\\frac{-\\Delta x^2}{\\lambda}e^{-\\frac{(x_2-a)^2}{b^2}} \\\\\n",
    "\\frac{-\\Delta x^2}{\\lambda}e^{-\\frac{(x_3-a)^2}{b^2}} \\\\\n",
    "\\frac{-\\Delta x^2}{\\lambda}e^{-\\frac{(x_4-a)^2}{b^2}} \\\\\n",
    "\\beta \\end{array} \\right]\n",
    "$$"
   ]
  },
  {
   "cell_type": "markdown",
   "metadata": {},
   "source": [
    "### Part 3"
   ]
  },
  {
   "cell_type": "markdown",
   "metadata": {},
   "source": [
    "For $N = 5$ grid points, show the system of equations (in matrix form) that must be solved\n",
    "subject to the Neumann boundary conditions\n",
    "\n",
    "$$\n",
    "\\left\\{ \\begin{array}{rcl}\n",
    "\\frac{dT}{dx}=\\alpha & \\mbox{at}\n",
    "& x=0 \\\\ \\frac{dT}{dx}=\\beta & \\mbox{at} & T=L\n",
    "\\end{array}\\right.$$"
   ]
  },
  {
   "cell_type": "markdown",
   "metadata": {},
   "source": [
    "To form the system of equations with these Neumann boundary conditions, I will need to use a two ghost points, one at $T_0$ and one at $T_6$.\n",
    "$$T_0-2 T_1+T_2=\\frac{-\\Delta x^2}{\\lambda}e^{-\\frac{(x_1-a)^2}{b^2}}\n",
    "\\space\\space\\space\\space\\space\\space\\space\\space\\space\\space\\space\\space\\space\\space\\space(5)$$\n",
    "$$T_4-2 T_5+T_6=\\frac{-\\Delta x^2}{\\lambda}e^{-\\frac{(x_5-a)^2}{b^2}}\n",
    "\\space\\space\\space\\space\\space\\space\\space\\space\\space\\space\\space\\space\\space\\space\\space(6)$$"
   ]
  },
  {
   "cell_type": "markdown",
   "metadata": {},
   "source": [
    "Because neither $T_0$ nor $T_6$ actually exist in the domain, I need to define $T_0$ and $T_6$ entirely in terms that DO exist. I do this by using the following approximation for the derivative at point n:\n",
    "$$\\frac{dT_n}{dx}\\approx \\frac{T_{n+1}-T_{n-1}}{2\\Delta x}\n",
    "\\space\\space\\space\\space\\space\\space\\space\\space\\space\\space (7)$$\n",
    "The Neumann boundary conditions tell me that\n",
    "$$\\frac{dT_1}{dx}\\approx \\frac{T_{2}-T_{0}}{2\\Delta x}=\\alpha\n",
    "\\space\\space\\space\\space\\space\\space\\space\\space\\space\\space (8)$$\n",
    "\n",
    "$$\\frac{dT_5}{dx}\\approx \\frac{T_{6}-T_{4}}{2\\Delta x}=\\beta\n",
    "\\space\\space\\space\\space\\space\\space\\space\\space\\space\\space(9)$$"
   ]
  },
  {
   "cell_type": "markdown",
   "metadata": {},
   "source": [
    "Solving these equations for $T_0$ and $T_6$ respectively yields\n",
    "$$T_0=T_2-2\\alpha\\Delta x\n",
    "\\space\\space\\space\\space\\space\\space\\space\\space\\space\\space (10)$$\n",
    "\n",
    "$$T_6=T_4+2\\beta\\Delta x\n",
    "\\space\\space\\space\\space\\space\\space\\space\\space\\space\\space (11)$$"
   ]
  },
  {
   "cell_type": "markdown",
   "metadata": {},
   "source": [
    "Substituting equations 10 and 11 into equations 5 and 6, respectively, yeilds\n",
    "$$(T_2-2\\alpha\\Delta x)-2 T_1+T_2=\\frac{-\\Delta x^2}{\\lambda}e^{-\\frac{(x_1-a)^2}{b^2}}\n",
    "\\space\\space\\space\\space\\space\\space\\space\\space\\space\\space\\space\\space\\space\\space\\space(12)$$\n",
    "\n",
    "$$T_4-2 T_5+(T_4+2\\beta\\Delta x)=\\frac{-\\Delta x^2}{\\lambda}e^{-\\frac{(x_5-a)^2}{b^2}}\n",
    "\\space\\space\\space\\space\\space\\space\\space\\space\\space\\space\\space\\space\\space\\space\\space(13)$$"
   ]
  },
  {
   "cell_type": "markdown",
   "metadata": {},
   "source": [
    "Simplifying these equations yields\n",
    "$$-2 T_1+2T_2=\\frac{-\\Delta x^2}{\\lambda}e^{\\frac{(x_1-a)^2}{b^2}}+2\\alpha\\Delta x\n",
    "\\space\\space\\space\\space\\space\\space\\space\\space\\space\\space\\space\\space\\space\\space\\space(14)$$\n",
    "\n",
    "$$2T_4-2T_5=\\frac{-\\Delta x^2}{\\lambda}e^{\\frac{(x_5-a)^2}{b^2}}-2\\beta\\Delta x\n",
    "\\space\\space\\space\\space\\space\\space\\space\\space\\space\\space\\space\\space\\space\\space\\space(15)$$"
   ]
  },
  {
   "cell_type": "markdown",
   "metadata": {},
   "source": [
    "Displaying these equations with the equations that remain unchanged for the interior points yields"
   ]
  },
  {
   "cell_type": "markdown",
   "metadata": {},
   "source": [
    "$$-2 T_1+2T_2=\\frac{-\\Delta x^2}{\\lambda}e^{-\\frac{(x_1-a)^2}{b^2}}+2\\alpha\\Delta x$$\n",
    "$$T_1-2 T_2+T_3=\\frac{-\\Delta x^2}{\\lambda}e^{-\\frac{(x_2-a)^2}{b^2}}$$\n",
    "$$T_2-2 T_3+T_4=\\frac{-\\Delta x^2}{\\lambda}e^{-\\frac{(x_3-a)^2}{b^2}}$$\n",
    "$$T_3-2 T_4+T_5=\\frac{-\\Delta x^2}{\\lambda}e^{-\\frac{(x_4-a)^2}{b^2}}$$\n",
    "$$2T_4-2T_5=\\frac{-\\Delta x^2}{\\lambda}e^{-\\frac{(x_5-a)^2}{b^2}}-2\\beta\\Delta x$$"
   ]
  },
  {
   "cell_type": "markdown",
   "metadata": {},
   "source": [
    "and displaying all these equations in matrix form yeilds\n",
    "$$\n",
    "\\left[ \\begin{array}{cc}\n",
    "-2 & 2 & 0 & 0 & 0 \\\\\n",
    "1 & -2 & 1 & 0 & 0 \\\\\n",
    "0 & 1 & -2 & 1 & 0 \\\\\n",
    "0 & 0 & 1 & -2 & 1 \\\\\n",
    "0 & 0 & 0 & 2 & -2 \\end{array} \\right]\n",
    "\\left[ \\begin{array}{cc}\n",
    "T_1\\\\T_2\\\\T_3\\\\T_4\\\\T_5 \\end{array} \\right]\n",
    "= \\left[ \\begin{array}{cc}\n",
    "\\frac{-\\Delta x^2}{\\lambda}e^{-\\frac{(x_1-a)^2}{b^2}}+2\\alpha\\Delta x \\\\\n",
    "\\frac{-\\Delta x^2}{\\lambda}e^{-\\frac{(x_2-a)^2}{b^2}} \\\\\n",
    "\\frac{-\\Delta x^2}{\\lambda}e^{-\\frac{(x_3-a)^2}{b^2}} \\\\\n",
    "\\frac{-\\Delta x^2}{\\lambda}e^{-\\frac{(x_4-a)^2}{b^2}} \\\\\n",
    "\\frac{-\\Delta x^2}{\\lambda}e^{-\\frac{(x_5-a)^2}{b^2}}-2\\beta\\Delta x \\end{array} \\right]\n",
    "$$"
   ]
  },
  {
   "cell_type": "markdown",
   "metadata": {},
   "source": [
    "## Problem 2"
   ]
  },
  {
   "cell_type": "markdown",
   "metadata": {},
   "source": [
    "Consider the ODE\n",
    "\n",
    "$\\frac{d^2\\phi}{dx^2}=\\alpha e^{-\\phi x}$\n",
    "\n",
    "with boundary conditions $\\phi(0) = a$ and $\\phi(L) = b$."
   ]
  },
  {
   "cell_type": "markdown",
   "metadata": {},
   "source": [
    "### Part 1"
   ]
  },
  {
   "cell_type": "markdown",
   "metadata": {},
   "source": [
    "Linearize the source term around a guessed value of $\\phi^*$ and show the new linearized\n",
    "ODE."
   ]
  },
  {
   "cell_type": "markdown",
   "metadata": {},
   "source": [
    "The right hand side (rhs)--which I will call $f(x,\\phi)$--is liearized by appoximating its value with a taylor series, around the point $\\phi^*$, that is truncated after at terms. The approximation for $f(x,\\phi)$ would then take the form\n",
    "$$f(x,\\phi)\\approx f(x,\\phi^*)+(\\phi-\\phi^*)\\frac{df}{d\\phi}\\Big |_{\\phi^*}.$$"
   ]
  },
  {
   "cell_type": "markdown",
   "metadata": {},
   "source": [
    "$f(x,\\phi)$ is already know. Deriving it yields $\\frac{df}{d\\phi}\\Big |_{\\phi^*}=-\\alpha x e^{-\\phi^* x}$."
   ]
  },
  {
   "cell_type": "markdown",
   "metadata": {},
   "source": [
    "Putting the rhs into this form yields\n",
    "$$f(x,\\phi)\\approx\\alpha e^{-\\phi^* x}-\\alpha x e^{-\\phi^* x}(\\phi-\\phi^*).$$"
   ]
  },
  {
   "cell_type": "markdown",
   "metadata": {},
   "source": [
    "Thus, the new ODE is\n",
    "$$\\frac{d^2\\phi}{dx^2}\\approx\\alpha e^{-\\phi^* x}-\\alpha x e^{-\\phi^* x}(\\phi-\\phi^*).\\,\\,\\,\\,\\,\\,\\,\\,\\,\\,(16)$$"
   ]
  },
  {
   "cell_type": "markdown",
   "metadata": {},
   "source": [
    "### Part 2"
   ]
  },
  {
   "cell_type": "markdown",
   "metadata": {},
   "source": [
    "Using the finite difference method, show the linearized set of equations for $n = 5$ grid\n",
    "points (including the boundary points like we did in class). Write these in matrix form."
   ]
  },
  {
   "cell_type": "markdown",
   "metadata": {},
   "source": [
    "Discretizing equation 16 at an arbitrary point $i$ yields\n",
    "$${\\LARGE \\frac{\\phi_{i-1}-2 \\phi_i+\\phi_{i+1}}{\\Delta x^2}=\\alpha e^{-\\phi_i^* x_i}-\\alpha x_i e^{-\\phi_i^* x_i}(\\phi_i-\\phi_i^*)}$$\n",
    "which will work for points 2, 3, and 4. Because Dirichlet boundary conditions are given, no additional work is needed to determind the value of $\\phi$ at points 1 and 5 (the boundaries)."
   ]
  },
  {
   "cell_type": "markdown",
   "metadata": {},
   "source": [
    "Multiplying by $\\Delta x^2$\n",
    "\n",
    "$${\\LARGE \\phi_{i-1}-2 \\phi_i+\\phi_{i+1}=\\alpha\\Delta x^2 e^{-\\phi_i^* x_i}-\\alpha x_i \\Delta x^2 e^{-\\phi_i^* x_i}(\\phi_i-\\phi_i^*)}$$\n",
    "distributing\n",
    "$${\\LARGE \\phi_{i-1}-2 \\phi_i+\\phi_{i+1}=\\alpha\\Delta x^2 e^{-\\phi_i^* x_i}-\\phi_i\\alpha\\ x_i \\Delta x^2 e^{-\\phi_i^* x_i}+\\alpha x_i\\phi_i^*\\Delta x^2e^{-\\phi_i^* x_i}}$$\n",
    "and combining like terms yields\n",
    "$${\\LARGE \\phi_{i-1}+\\phi_i(\\alpha\\ x_i \\Delta x^2 e^{-\\phi_i^* x_i}-2)+\\phi_{i+1}=\\alpha\\Delta x^2 e^{-\\phi_i^* x_i}(1+x_i\\phi_i^*)}.$$"
   ]
  },
  {
   "cell_type": "markdown",
   "metadata": {},
   "source": [
    "Evaluating this for $i=2$, $3$, and $4$, and putting those equations in a matrix with the boundary conditions yields"
   ]
  },
  {
   "cell_type": "markdown",
   "metadata": {},
   "source": [
    "$${\\large\n",
    "\\left[ \\begin{array}{cc}\n",
    "1 & 0 & 0 & 0 & 0 \\\\\n",
    "1 & \\alpha x_2 \\Delta x^2 e^{-\\phi_2^* x_2}-2 & 1 & 0 & 0 \\\\\n",
    "0 & 1 & \\alpha x_3 \\Delta x^2 e^{-\\phi_3^* x_3}-2 & 1 & 0 \\\\\n",
    "0 & 0 & 1 & \\alpha x_4 \\Delta x^2 e^{-\\phi_4^* x_4}-2 & 1 \\\\\n",
    "0 & 0 & 0 & 0 & 1 \\end{array} \\right]\n",
    "\\left[ \\begin{array}{cc}\n",
    "\\phi_1\\\\\\phi_2\\\\\\phi_3\\\\\\phi_4\\\\\\phi_5 \\end{array} \\right]\n",
    "= \\left[ \\begin{array}{cc}\n",
    "a\\\\\n",
    "\\alpha\\Delta x^2 e^{-\\phi_2^* x_2}(1+x_2\\phi_2^*)\\\\\n",
    "\\alpha\\Delta x^2 e^{-\\phi_3^* x_3}(1+x_3\\phi_3^*)\\\\\n",
    "\\alpha\\Delta x^2 e^{-\\phi_4^* x_4}(1+x_4\\phi_4^*)\\\\\n",
    "b \\end{array} \\right]}$$"
   ]
  },
  {
   "cell_type": "markdown",
   "metadata": {},
   "source": [
    "### Part 3"
   ]
  },
  {
   "cell_type": "markdown",
   "metadata": {},
   "source": [
    "Write a Python code that solves the discrete linearized problem. Plot the numerical solution\n",
    "to this problem for $n = 100$ points, $L = 1$ , $a = 0$, $b = 1$ and $\\alpha =10^{-4}$."
   ]
  },
  {
   "cell_type": "code",
   "execution_count": 61,
   "metadata": {},
   "outputs": [],
   "source": [
    "import numpy as np"
   ]
  },
  {
   "cell_type": "code",
   "execution_count": 66,
   "metadata": {},
   "outputs": [],
   "source": [
    "def f(α,L,n,a,b):\n",
    "    ud=np.ones(n-1)\n",
    "    ud[0]=0\n",
    "    ld=np.ones(n-1)\n",
    "    ld[n-2]=0\n",
    "    ϕstar=np.ones(n) #initial geuss for the solution vector ϕ\n",
    "    x=np.linspace(0,L,n)\n",
    "    error=1000000\n",
    "    ϵ=0.001\n",
    "    dx=x[1]-x[0]\n",
    "    while (error>ϵ):\n",
    "        d=α*x*(dx)**2*np.exp(-ϕstar*x)-2\n",
    "        d[0]=1\n",
    "        d[n-1]=1\n",
    "        \n",
    "        A=np.diag(ld,-1)+np.diag(d,0)+np.diag(ud,1)\n",
    "        \n",
    "        rhs=α*(dx)**2*np.exp(-ϕstar*x)*(1+x*ϕstar)\n",
    "        rhs[0]=a\n",
    "        rhs[n-1]=b\n",
    "        sol=np.linalg.solve(A,rhs)\n",
    "        error=np.linalg.norm(sol-ϕstar,1)\n",
    "        ϕstar=sol\n",
    "        \n",
    "        return x,sol"
   ]
  },
  {
   "cell_type": "code",
   "execution_count": 67,
   "metadata": {},
   "outputs": [
    {
     "data": {
      "text/plain": [
       "(array([0.        , 0.02040816, 0.04081633, 0.06122449, 0.08163265,\n",
       "        0.10204082, 0.12244898, 0.14285714, 0.16326531, 0.18367347,\n",
       "        0.20408163, 0.2244898 , 0.24489796, 0.26530612, 0.28571429,\n",
       "        0.30612245, 0.32653061, 0.34693878, 0.36734694, 0.3877551 ,\n",
       "        0.40816327, 0.42857143, 0.44897959, 0.46938776, 0.48979592,\n",
       "        0.51020408, 0.53061224, 0.55102041, 0.57142857, 0.59183673,\n",
       "        0.6122449 , 0.63265306, 0.65306122, 0.67346939, 0.69387755,\n",
       "        0.71428571, 0.73469388, 0.75510204, 0.7755102 , 0.79591837,\n",
       "        0.81632653, 0.83673469, 0.85714286, 0.87755102, 0.89795918,\n",
       "        0.91836735, 0.93877551, 0.95918367, 0.97959184, 1.        ]),\n",
       " array([0.        , 0.02040732, 0.04081468, 0.06122208, 0.08162952,\n",
       "        0.102037  , 0.12244452, 0.14285209, 0.16325969, 0.18366734,\n",
       "        0.20407503, 0.22448275, 0.24489051, 0.26529832, 0.28570616,\n",
       "        0.30611404, 0.32652195, 0.3469299 , 0.36733789, 0.38774592,\n",
       "        0.40815397, 0.42856207, 0.44897019, 0.46937835, 0.48978655,\n",
       "        0.51019477, 0.53060303, 0.55101131, 0.57141963, 0.59182798,\n",
       "        0.61223635, 0.63264475, 0.65305318, 0.67346164, 0.69387012,\n",
       "        0.71427863, 0.73468716, 0.75509571, 0.77550429, 0.79591289,\n",
       "        0.81632152, 0.83673016, 0.85713883, 0.87754751, 0.89795622,\n",
       "        0.91836494, 0.93877368, 0.95918244, 0.97959121, 1.        ]))"
      ]
     },
     "execution_count": 67,
     "metadata": {},
     "output_type": "execute_result"
    }
   ],
   "source": [
    "#constants\n",
    "n=50\n",
    "L=1\n",
    "a=0\n",
    "b=1\n",
    "α=1e-4\n",
    "\n",
    "f(α,L,n,a,b)"
   ]
  },
  {
   "cell_type": "code",
   "execution_count": 68,
   "metadata": {},
   "outputs": [
    {
     "ename": "ValueError",
     "evalue": "x and y must have same first dimension, but have shapes (10,) and (100,)",
     "output_type": "error",
     "traceback": [
      "\u001b[0;31m---------------------------------------------------------------------------\u001b[0m",
      "\u001b[0;31mValueError\u001b[0m                                Traceback (most recent call last)",
      "\u001b[0;32m<ipython-input-68-08c653b2a791>\u001b[0m in \u001b[0;36m<module>\u001b[0;34m()\u001b[0m\n\u001b[1;32m      1\u001b[0m \u001b[0;32mimport\u001b[0m \u001b[0mmatplotlib\u001b[0m\u001b[0;34m.\u001b[0m\u001b[0mpyplot\u001b[0m \u001b[0;32mas\u001b[0m \u001b[0mplt\u001b[0m\u001b[0;34m\u001b[0m\u001b[0m\n\u001b[0;32m----> 2\u001b[0;31m \u001b[0mplt\u001b[0m\u001b[0;34m.\u001b[0m\u001b[0mplot\u001b[0m\u001b[0;34m(\u001b[0m\u001b[0mx\u001b[0m\u001b[0;34m,\u001b[0m\u001b[0msol\u001b[0m\u001b[0;34m)\u001b[0m\u001b[0;34m\u001b[0m\u001b[0m\n\u001b[0m\u001b[1;32m      3\u001b[0m \u001b[0mplt\u001b[0m\u001b[0;34m.\u001b[0m\u001b[0mxlabel\u001b[0m\u001b[0;34m(\u001b[0m\u001b[0;34m\"x\"\u001b[0m\u001b[0;34m)\u001b[0m\u001b[0;34m\u001b[0m\u001b[0m\n\u001b[1;32m      4\u001b[0m \u001b[0mplt\u001b[0m\u001b[0;34m.\u001b[0m\u001b[0mylabel\u001b[0m\u001b[0;34m(\u001b[0m\u001b[0;34m\"ϕ\"\u001b[0m\u001b[0;34m)\u001b[0m\u001b[0;34m\u001b[0m\u001b[0m\n\u001b[1;32m      5\u001b[0m \u001b[0mplt\u001b[0m\u001b[0;34m.\u001b[0m\u001b[0mgrid\u001b[0m\u001b[0;34m(\u001b[0m\u001b[0;34m)\u001b[0m\u001b[0;34m\u001b[0m\u001b[0m\n",
      "\u001b[0;32m/usr/lib/python3.5/matplotlib/pyplot.py\u001b[0m in \u001b[0;36mplot\u001b[0;34m(*args, **kwargs)\u001b[0m\n\u001b[1;32m   3356\u001b[0m                       mplDeprecation)\n\u001b[1;32m   3357\u001b[0m     \u001b[0;32mtry\u001b[0m\u001b[0;34m:\u001b[0m\u001b[0;34m\u001b[0m\u001b[0m\n\u001b[0;32m-> 3358\u001b[0;31m         \u001b[0mret\u001b[0m \u001b[0;34m=\u001b[0m \u001b[0max\u001b[0m\u001b[0;34m.\u001b[0m\u001b[0mplot\u001b[0m\u001b[0;34m(\u001b[0m\u001b[0;34m*\u001b[0m\u001b[0margs\u001b[0m\u001b[0;34m,\u001b[0m \u001b[0;34m**\u001b[0m\u001b[0mkwargs\u001b[0m\u001b[0;34m)\u001b[0m\u001b[0;34m\u001b[0m\u001b[0m\n\u001b[0m\u001b[1;32m   3359\u001b[0m     \u001b[0;32mfinally\u001b[0m\u001b[0;34m:\u001b[0m\u001b[0;34m\u001b[0m\u001b[0m\n\u001b[1;32m   3360\u001b[0m         \u001b[0max\u001b[0m\u001b[0;34m.\u001b[0m\u001b[0m_hold\u001b[0m \u001b[0;34m=\u001b[0m \u001b[0mwashold\u001b[0m\u001b[0;34m\u001b[0m\u001b[0m\n",
      "\u001b[0;32m/usr/lib/python3.5/matplotlib/__init__.py\u001b[0m in \u001b[0;36minner\u001b[0;34m(ax, *args, **kwargs)\u001b[0m\n\u001b[1;32m   1853\u001b[0m                         \u001b[0;34m\"the Matplotlib list!)\"\u001b[0m \u001b[0;34m%\u001b[0m \u001b[0;34m(\u001b[0m\u001b[0mlabel_namer\u001b[0m\u001b[0;34m,\u001b[0m \u001b[0mfunc\u001b[0m\u001b[0;34m.\u001b[0m\u001b[0m__name__\u001b[0m\u001b[0;34m)\u001b[0m\u001b[0;34m,\u001b[0m\u001b[0;34m\u001b[0m\u001b[0m\n\u001b[1;32m   1854\u001b[0m                         RuntimeWarning, stacklevel=2)\n\u001b[0;32m-> 1855\u001b[0;31m             \u001b[0;32mreturn\u001b[0m \u001b[0mfunc\u001b[0m\u001b[0;34m(\u001b[0m\u001b[0max\u001b[0m\u001b[0;34m,\u001b[0m \u001b[0;34m*\u001b[0m\u001b[0margs\u001b[0m\u001b[0;34m,\u001b[0m \u001b[0;34m**\u001b[0m\u001b[0mkwargs\u001b[0m\u001b[0;34m)\u001b[0m\u001b[0;34m\u001b[0m\u001b[0m\n\u001b[0m\u001b[1;32m   1856\u001b[0m \u001b[0;34m\u001b[0m\u001b[0m\n\u001b[1;32m   1857\u001b[0m         inner.__doc__ = _add_data_doc(inner.__doc__,\n",
      "\u001b[0;32m/usr/lib/python3.5/matplotlib/axes/_axes.py\u001b[0m in \u001b[0;36mplot\u001b[0;34m(self, *args, **kwargs)\u001b[0m\n\u001b[1;32m   1525\u001b[0m         \u001b[0mkwargs\u001b[0m \u001b[0;34m=\u001b[0m \u001b[0mcbook\u001b[0m\u001b[0;34m.\u001b[0m\u001b[0mnormalize_kwargs\u001b[0m\u001b[0;34m(\u001b[0m\u001b[0mkwargs\u001b[0m\u001b[0;34m,\u001b[0m \u001b[0m_alias_map\u001b[0m\u001b[0;34m)\u001b[0m\u001b[0;34m\u001b[0m\u001b[0m\n\u001b[1;32m   1526\u001b[0m \u001b[0;34m\u001b[0m\u001b[0m\n\u001b[0;32m-> 1527\u001b[0;31m         \u001b[0;32mfor\u001b[0m \u001b[0mline\u001b[0m \u001b[0;32min\u001b[0m \u001b[0mself\u001b[0m\u001b[0;34m.\u001b[0m\u001b[0m_get_lines\u001b[0m\u001b[0;34m(\u001b[0m\u001b[0;34m*\u001b[0m\u001b[0margs\u001b[0m\u001b[0;34m,\u001b[0m \u001b[0;34m**\u001b[0m\u001b[0mkwargs\u001b[0m\u001b[0;34m)\u001b[0m\u001b[0;34m:\u001b[0m\u001b[0;34m\u001b[0m\u001b[0m\n\u001b[0m\u001b[1;32m   1528\u001b[0m             \u001b[0mself\u001b[0m\u001b[0;34m.\u001b[0m\u001b[0madd_line\u001b[0m\u001b[0;34m(\u001b[0m\u001b[0mline\u001b[0m\u001b[0;34m)\u001b[0m\u001b[0;34m\u001b[0m\u001b[0m\n\u001b[1;32m   1529\u001b[0m             \u001b[0mlines\u001b[0m\u001b[0;34m.\u001b[0m\u001b[0mappend\u001b[0m\u001b[0;34m(\u001b[0m\u001b[0mline\u001b[0m\u001b[0;34m)\u001b[0m\u001b[0;34m\u001b[0m\u001b[0m\n",
      "\u001b[0;32m/usr/lib/python3.5/matplotlib/axes/_base.py\u001b[0m in \u001b[0;36m_grab_next_args\u001b[0;34m(self, *args, **kwargs)\u001b[0m\n\u001b[1;32m    404\u001b[0m                 \u001b[0mthis\u001b[0m \u001b[0;34m+=\u001b[0m \u001b[0margs\u001b[0m\u001b[0;34m[\u001b[0m\u001b[0;36m0\u001b[0m\u001b[0;34m]\u001b[0m\u001b[0;34m,\u001b[0m\u001b[0;34m\u001b[0m\u001b[0m\n\u001b[1;32m    405\u001b[0m                 \u001b[0margs\u001b[0m \u001b[0;34m=\u001b[0m \u001b[0margs\u001b[0m\u001b[0;34m[\u001b[0m\u001b[0;36m1\u001b[0m\u001b[0;34m:\u001b[0m\u001b[0;34m]\u001b[0m\u001b[0;34m\u001b[0m\u001b[0m\n\u001b[0;32m--> 406\u001b[0;31m             \u001b[0;32mfor\u001b[0m \u001b[0mseg\u001b[0m \u001b[0;32min\u001b[0m \u001b[0mself\u001b[0m\u001b[0;34m.\u001b[0m\u001b[0m_plot_args\u001b[0m\u001b[0;34m(\u001b[0m\u001b[0mthis\u001b[0m\u001b[0;34m,\u001b[0m \u001b[0mkwargs\u001b[0m\u001b[0;34m)\u001b[0m\u001b[0;34m:\u001b[0m\u001b[0;34m\u001b[0m\u001b[0m\n\u001b[0m\u001b[1;32m    407\u001b[0m                 \u001b[0;32myield\u001b[0m \u001b[0mseg\u001b[0m\u001b[0;34m\u001b[0m\u001b[0m\n\u001b[1;32m    408\u001b[0m \u001b[0;34m\u001b[0m\u001b[0m\n",
      "\u001b[0;32m/usr/lib/python3.5/matplotlib/axes/_base.py\u001b[0m in \u001b[0;36m_plot_args\u001b[0;34m(self, tup, kwargs)\u001b[0m\n\u001b[1;32m    381\u001b[0m             \u001b[0mx\u001b[0m\u001b[0;34m,\u001b[0m \u001b[0my\u001b[0m \u001b[0;34m=\u001b[0m \u001b[0mindex_of\u001b[0m\u001b[0;34m(\u001b[0m\u001b[0mtup\u001b[0m\u001b[0;34m[\u001b[0m\u001b[0;34m-\u001b[0m\u001b[0;36m1\u001b[0m\u001b[0;34m]\u001b[0m\u001b[0;34m)\u001b[0m\u001b[0;34m\u001b[0m\u001b[0m\n\u001b[1;32m    382\u001b[0m \u001b[0;34m\u001b[0m\u001b[0m\n\u001b[0;32m--> 383\u001b[0;31m         \u001b[0mx\u001b[0m\u001b[0;34m,\u001b[0m \u001b[0my\u001b[0m \u001b[0;34m=\u001b[0m \u001b[0mself\u001b[0m\u001b[0;34m.\u001b[0m\u001b[0m_xy_from_xy\u001b[0m\u001b[0;34m(\u001b[0m\u001b[0mx\u001b[0m\u001b[0;34m,\u001b[0m \u001b[0my\u001b[0m\u001b[0;34m)\u001b[0m\u001b[0;34m\u001b[0m\u001b[0m\n\u001b[0m\u001b[1;32m    384\u001b[0m \u001b[0;34m\u001b[0m\u001b[0m\n\u001b[1;32m    385\u001b[0m         \u001b[0;32mif\u001b[0m \u001b[0mself\u001b[0m\u001b[0;34m.\u001b[0m\u001b[0mcommand\u001b[0m \u001b[0;34m==\u001b[0m \u001b[0;34m'plot'\u001b[0m\u001b[0;34m:\u001b[0m\u001b[0;34m\u001b[0m\u001b[0m\n",
      "\u001b[0;32m/usr/lib/python3.5/matplotlib/axes/_base.py\u001b[0m in \u001b[0;36m_xy_from_xy\u001b[0;34m(self, x, y)\u001b[0m\n\u001b[1;32m    240\u001b[0m         \u001b[0;32mif\u001b[0m \u001b[0mx\u001b[0m\u001b[0;34m.\u001b[0m\u001b[0mshape\u001b[0m\u001b[0;34m[\u001b[0m\u001b[0;36m0\u001b[0m\u001b[0;34m]\u001b[0m \u001b[0;34m!=\u001b[0m \u001b[0my\u001b[0m\u001b[0;34m.\u001b[0m\u001b[0mshape\u001b[0m\u001b[0;34m[\u001b[0m\u001b[0;36m0\u001b[0m\u001b[0;34m]\u001b[0m\u001b[0;34m:\u001b[0m\u001b[0;34m\u001b[0m\u001b[0m\n\u001b[1;32m    241\u001b[0m             raise ValueError(\"x and y must have same first dimension, but \"\n\u001b[0;32m--> 242\u001b[0;31m                              \"have shapes {} and {}\".format(x.shape, y.shape))\n\u001b[0m\u001b[1;32m    243\u001b[0m         \u001b[0;32mif\u001b[0m \u001b[0mx\u001b[0m\u001b[0;34m.\u001b[0m\u001b[0mndim\u001b[0m \u001b[0;34m>\u001b[0m \u001b[0;36m2\u001b[0m \u001b[0;32mor\u001b[0m \u001b[0my\u001b[0m\u001b[0;34m.\u001b[0m\u001b[0mndim\u001b[0m \u001b[0;34m>\u001b[0m \u001b[0;36m2\u001b[0m\u001b[0;34m:\u001b[0m\u001b[0;34m\u001b[0m\u001b[0m\n\u001b[1;32m    244\u001b[0m             raise ValueError(\"x and y can be no greater than 2-D, but have \"\n",
      "\u001b[0;31mValueError\u001b[0m: x and y must have same first dimension, but have shapes (10,) and (100,)"
     ]
    }
   ],
   "source": [
    "import matplotlib.pyplot as plt\n",
    "plt.plot(x,sol)\n",
    "plt.xlabel(\"x\")\n",
    "plt.ylabel(\"ϕ\")\n",
    "plt.grid()\n",
    "plt.show()"
   ]
  },
  {
   "cell_type": "code",
   "execution_count": null,
   "metadata": {
    "collapsed": true
   },
   "outputs": [],
   "source": []
  },
  {
   "cell_type": "code",
   "execution_count": null,
   "metadata": {
    "collapsed": true
   },
   "outputs": [],
   "source": []
  }
 ],
 "metadata": {
  "kernelspec": {
   "display_name": "Python 3",
   "language": "python",
   "name": "python3"
  },
  "language_info": {
   "codemirror_mode": {
    "name": "ipython",
    "version": 3
   },
   "file_extension": ".py",
   "mimetype": "text/x-python",
   "name": "python",
   "nbconvert_exporter": "python",
   "pygments_lexer": "ipython3",
   "version": "3.5.2"
  }
 },
 "nbformat": 4,
 "nbformat_minor": 2
}

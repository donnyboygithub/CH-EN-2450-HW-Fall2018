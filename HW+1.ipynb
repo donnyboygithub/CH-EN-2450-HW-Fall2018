{
 "cells": [
  {
   "cell_type": "markdown",
   "metadata": {},
   "source": [
    "CH EN 2450 Donovan Feist"
   ]
  },
  {
   "cell_type": "markdown",
   "metadata": {},
   "source": [
    "Homework 1"
   ]
  },
  {
   "cell_type": "markdown",
   "metadata": {},
   "source": [
    "Problem 3"
   ]
  },
  {
   "cell_type": "markdown",
   "metadata": {},
   "source": [
    "Part 1"
   ]
  },
  {
   "cell_type": "code",
   "execution_count": 11,
   "metadata": {},
   "outputs": [
    {
     "name": "stdout",
     "output_type": "stream",
     "text": [
      "when h = 0.1, the approximate second derivative is :  3.017132725954929\n",
      "when h = 0.01, the approximate second derivative is :  3.0271090755795704\n",
      "true value :  3.027209981231713\n",
      "ture error when h is 0.1 =  0.010077255276783603\n",
      "ture error when h is 0.01 =  0.00010090565214238012\n"
     ]
    }
   ],
   "source": [
    "from math import sin\n",
    "x=2\n",
    "h=0.1\n",
    "f=sin(2*x)\n",
    "g=sin(2*(x+h))\n",
    "j=sin(2*(x-h))\n",
    "f_second_derivative1=(g-2*f+j)/h**2\n",
    "print(\"when h = 0.1, the approximate second derivative is : \", f_second_derivative1)\n",
    "\n",
    "x=2\n",
    "h=0.01\n",
    "f=sin(2*x)\n",
    "g=sin(2*(x+h))\n",
    "j=sin(2*(x-h))\n",
    "f_second_derivative2=(g-2*f+j)/h**2\n",
    "print(\"when h = 0.01, the approximate second derivative is : \",f_second_derivative2)\n",
    "\n",
    "#the true equation for the second derivative of f(x)=sin(x) is f\"(x)=-4*sin(2*x),\n",
    "#which means the true value for the f\"(2) is:\n",
    "k=-4*sin(2*x)\n",
    "print(\"true value : \", k)\n",
    "\n",
    "print(\"ture error when h is 0.1 = \", k-f_second_derivative1)\n",
    "print(\"ture error when h is 0.01 = \", k-f_second_derivative2)"
   ]
  },
  {
   "cell_type": "markdown",
   "metadata": {},
   "source": [
    "Because the step size of the approximation is smaller in the second block of code, its value for the second derivative of f(2) is much closer to the true value of the second derivative."
   ]
  },
  {
   "cell_type": "markdown",
   "metadata": {},
   "source": [
    "Part 2"
   ]
  },
  {
   "cell_type": "code",
   "execution_count": 18,
   "metadata": {},
   "outputs": [
    {
     "name": "stdout",
     "output_type": "stream",
     "text": [
      "relative true error with h = 0.1  =  0.3328892062083967 % error\n",
      "relative true error with h = 0.01 =  0.0033332888292514013 % error\n"
     ]
    }
   ],
   "source": [
    "#relative true error\n",
    "a=100*abs((k-f_second_derivative1)/k)\n",
    "b=100*abs((k-f_second_derivative2)/k)\n",
    "print(\"relative true error with h = 0.1  = \", a, \"% error\")\n",
    "print(\"relative true error with h = 0.01 = \", b, \"% error\")"
   ]
  },
  {
   "cell_type": "markdown",
   "metadata": {},
   "source": [
    "Even though the relative true error with step size h=0.1 is only one third of one percent, the relative true error with step size h=0.01 is 100 times more accurate!"
   ]
  },
  {
   "cell_type": "markdown",
   "metadata": {},
   "source": [
    "Problem 4"
   ]
  },
  {
   "cell_type": "markdown",
   "metadata": {},
   "source": [
    "Part 1"
   ]
  },
  {
   "cell_type": "markdown",
   "metadata": {},
   "source": [
    "You should look at the relative error, becuase the absolute error doesnt take into consideration the amount of gas that was purchased, only the absolute difference. By computing the relative error, we will know which gas station cheated the most PER GALLON."
   ]
  },
  {
   "cell_type": "markdown",
   "metadata": {},
   "source": [
    "Part 2"
   ]
  },
  {
   "cell_type": "code",
   "execution_count": 23,
   "metadata": {},
   "outputs": [
    {
     "name": "stdout",
     "output_type": "stream",
     "text": [
      "relative error at gas station A is :  0.9999999999999964 % error\n",
      "relative error at gas station B is :  0.5000000000000071 % error\n",
      "relative error at gas station C is :  0.6666666666666643 % error\n",
      "relative error at gas station D is :  0.16666666666666904 % error\n"
     ]
    }
   ],
   "source": [
    "A1=10.00\n",
    "A2=9.90\n",
    "B1=20.00\n",
    "B2=19.90\n",
    "C1=30.00\n",
    "C2=29.80\n",
    "D1=30.00\n",
    "D2=29.95\n",
    "\n",
    "print (\"relative error at gas station A is : \", 100*(A1-A2)/A1, \"% error\")\n",
    "print (\"relative error at gas station B is : \", 100*(B1-B2)/B1, \"% error\")\n",
    "print (\"relative error at gas station C is : \", 100*(C1-C2)/C1, \"% error\")\n",
    "print (\"relative error at gas station D is : \", 100*(D1-D2)/D1, \"% error\")"
   ]
  },
  {
   "cell_type": "markdown",
   "metadata": {},
   "source": [
    "Part 3"
   ]
  },
  {
   "cell_type": "markdown",
   "metadata": {},
   "source": [
    "Gas station A cheated me the most."
   ]
  },
  {
   "cell_type": "code",
   "execution_count": null,
   "metadata": {
    "collapsed": true
   },
   "outputs": [],
   "source": []
  }
 ],
 "metadata": {
  "kernelspec": {
   "display_name": "Python 3",
   "language": "python",
   "name": "python3"
  },
  "language_info": {
   "codemirror_mode": {
    "name": "ipython",
    "version": 3
   },
   "file_extension": ".py",
   "mimetype": "text/x-python",
   "name": "python",
   "nbconvert_exporter": "python",
   "pygments_lexer": "ipython3",
   "version": "3.5.2"
  }
 },
 "nbformat": 4,
 "nbformat_minor": 2
}

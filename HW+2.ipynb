{
 "cells": [
  {
   "cell_type": "markdown",
   "metadata": {},
   "source": [
    "# Donovan Feist, u09249825, CH EN 2450"
   ]
  },
  {
   "cell_type": "markdown",
   "metadata": {},
   "source": [
    "# Homework 2"
   ]
  },
  {
   "cell_type": "markdown",
   "metadata": {},
   "source": [
    "## Problem 1"
   ]
  },
  {
   "cell_type": "markdown",
   "metadata": {},
   "source": [
    "### 1.1 True Error"
   ]
  },
  {
   "cell_type": "markdown",
   "metadata": {},
   "source": [
    "A single clock cycle in the Patriot system is the time span of 0.1 seconds. The absolute error in the Patriot system is would be equal to ((the true time span)-(the approximate time span)."
   ]
  },
  {
   "cell_type": "code",
   "execution_count": null,
   "metadata": {},
   "outputs": [],
   "source": [
    "true_error=0.09999990463256836-0.1\n",
    "print(\"The true error of the Patriot system is:\", true_error, \"seconds\")"
   ]
  },
  {
   "cell_type": "markdown",
   "metadata": {},
   "source": [
    "The true error of a single clock cycle is obviously very small."
   ]
  },
  {
   "cell_type": "markdown",
   "metadata": {},
   "source": [
    "### 1.2 After 100 hours"
   ]
  },
  {
   "cell_type": "code",
   "execution_count": null,
   "metadata": {},
   "outputs": [],
   "source": [
    "true_error=0.09999990463256836-0.1\n",
    "cycles=100*60*60*10 #number of cycles that should have happened in 100 hours\n",
    "a=1/0.09999990463256836\n",
    "actual_cycles=100*60*60*a #number of cycles that actually happened in 100 hours\n",
    "print(\"The number of cycles that should have happened in 100 hours, if the system had zero error, would be \", cycles, \". But because there is error, the actual number of cycles that took place in 100 hours is \", actual_cycles, \".\")\n",
    "b = true_error*actual_cycles #error after 100 hours\n",
    "print(\"\\nThe error of the Patriot system due to round off after 100 hours is: \", b, \" seconds.\")"
   ]
  },
  {
   "cell_type": "markdown",
   "metadata": {},
   "source": [
    "As the statements above indicate, the Patiot system thinks each cycle is 0.1 seconds, when in reality it is 0.09999990463256836 seconds. The difference leads to the system being about 0.343 seconds BEHIND where it should be after 100 hours."
   ]
  },
  {
   "cell_type": "markdown",
   "metadata": {},
   "source": [
    "### 1.3 Scud Missile"
   ]
  },
  {
   "cell_type": "code",
   "execution_count": null,
   "metadata": {},
   "outputs": [],
   "source": []
  },
  {
   "cell_type": "markdown",
   "metadata": {},
   "source": [
    "## Problem 2"
   ]
  },
  {
   "cell_type": "code",
   "execution_count": 20,
   "metadata": {},
   "outputs": [
    {
     "name": "stdout",
     "output_type": "stream",
     "text": [
      "x= 1.5\n",
      "\n",
      "\n",
      "for  1  signigicant digit(s)\n",
      "1.5\n",
      "100.0\n",
      "0.9375\n",
      "60.0\n",
      "1.00078125\n",
      "6.323185011709597\n",
      "0.9973911830357143\n",
      "0.33989341613863916\n",
      "11  terms were required to achieve an accuracy of  1  significant digit(s)\n",
      "0.9974971226283482\n",
      "0.010620541175577173\n",
      "11  terms were required to achieve an accuracy of  1  significant digit(s)\n",
      "0.9974949556821353\n",
      "0.0002172388141481484\n",
      "11  terms were required to achieve an accuracy of  1  significant digit(s)\n",
      "0.9974949869361672\n",
      "3.1332520290710903e-06\n",
      "11  terms were required to achieve an accuracy of  1  significant digit(s)\n",
      "0.9974949866013026\n",
      "3.3570552735305615e-08\n",
      "11  terms were required to achieve an accuracy of  1  significant digit(s)\n",
      "-----------------------\n",
      "for  2  signigicant digit(s)\n",
      "1.5\n",
      "100.0\n",
      "0.9375\n",
      "60.0\n",
      "1.00078125\n",
      "6.323185011709597\n",
      "0.9973911830357143\n",
      "0.33989341613863916\n",
      "11  terms were required to achieve an accuracy of  2  significant digit(s)\n",
      "0.9974971226283482\n",
      "0.010620541175577173\n",
      "11  terms were required to achieve an accuracy of  2  significant digit(s)\n",
      "0.9974949556821353\n",
      "0.0002172388141481484\n",
      "11  terms were required to achieve an accuracy of  2  significant digit(s)\n",
      "0.9974949869361672\n",
      "3.1332520290710903e-06\n",
      "11  terms were required to achieve an accuracy of  2  significant digit(s)\n",
      "0.9974949866013026\n",
      "3.3570552735305615e-08\n",
      "11  terms were required to achieve an accuracy of  2  significant digit(s)\n",
      "-----------------------\n",
      "for  4  signigicant digit(s)\n",
      "1.5\n",
      "100.0\n",
      "0.9375\n",
      "60.0\n",
      "1.00078125\n",
      "6.323185011709597\n",
      "0.9973911830357143\n",
      "0.33989341613863916\n",
      "0.9974971226283482\n",
      "0.010620541175577173\n",
      "0.9974949556821353\n",
      "0.0002172388141481484\n",
      "13  terms were required to achieve an accuracy of  4  significant digit(s)\n",
      "0.9974949869361672\n",
      "3.1332520290710903e-06\n",
      "13  terms were required to achieve an accuracy of  4  significant digit(s)\n",
      "0.9974949866013026\n",
      "3.3570552735305615e-08\n",
      "13  terms were required to achieve an accuracy of  4  significant digit(s)\n",
      "-----------------------\n",
      "for  6  signigicant digit(s)\n",
      "1.5\n",
      "100.0\n",
      "0.9375\n",
      "60.0\n",
      "1.00078125\n",
      "6.323185011709597\n",
      "0.9973911830357143\n",
      "0.33989341613863916\n",
      "0.9974971226283482\n",
      "0.010620541175577173\n",
      "0.9974949556821353\n",
      "0.0002172388141481484\n",
      "0.9974949869361672\n",
      "3.1332520290710903e-06\n",
      "14  terms were required to achieve an accuracy of  6  significant digit(s)\n",
      "0.9974949866013026\n",
      "3.3570552735305615e-08\n",
      "14  terms were required to achieve an accuracy of  6  significant digit(s)\n",
      "-----------------------\n",
      "for  12  signigicant digit(s)\n",
      "1.5\n",
      "100.0\n",
      "0.9375\n",
      "60.0\n",
      "1.00078125\n",
      "6.323185011709597\n",
      "0.9973911830357143\n",
      "0.33989341613863916\n",
      "0.9974971226283482\n",
      "0.010620541175577173\n",
      "0.9974949556821353\n",
      "0.0002172388141481484\n",
      "0.9974949869361672\n",
      "3.1332520290710903e-06\n",
      "0.9974949866013026\n",
      "3.3570552735305615e-08\n",
      "-----------------------\n"
     ]
    }
   ],
   "source": [
    "from math import factorial\n",
    "\n",
    "sig=[1,2,4,6,12] #the user can enter the desired number of significant digits here\n",
    "x = 1.5 #the user can enter the value to be evaluated by the taylor series here\n",
    "\n",
    "print(\"x=\", x)\n",
    "print('\\n')\n",
    "\n",
    "for i in range (0, len(sig)):\n",
    "    print(\"for \",sig[i],\" signigicant digit(s)\")\n",
    "    oldval = 0.0\n",
    "    dig=0.5*10**(2-sig[i])\n",
    "    nterms = 8 #enter a low guess for the number of terms that will be required\n",
    "    for n in range (0, nterms ):\n",
    "        newval = oldval + (-1)**n*x**(2*n+1)/(factorial (2*n+1)) #taylor series for sin(x)\n",
    "        ea = abs ((newval - oldval)/newval)*100\n",
    "        oldval = newval\n",
    "        print(newval)\n",
    "        print(ea)\n",
    "        if ea>= dig:\n",
    "            nterms=nterms+1\n",
    "        else:\n",
    "            print(nterms, \" terms were required to achieve an accuracy of \",sig[i],\" significant digit(s)\")\n",
    "    print(\"-----------------------\")        \n",
    "    \n",
    "\n",
    "\n"
   ]
  },
  {
   "cell_type": "code",
   "execution_count": null,
   "metadata": {
    "collapsed": true
   },
   "outputs": [],
   "source": []
  }
 ],
 "metadata": {
  "kernelspec": {
   "display_name": "Python 3",
   "language": "python",
   "name": "python3"
  },
  "language_info": {
   "codemirror_mode": {
    "name": "ipython",
    "version": 3
   },
   "file_extension": ".py",
   "mimetype": "text/x-python",
   "name": "python",
   "nbconvert_exporter": "python",
   "pygments_lexer": "ipython3",
   "version": "3.5.2"
  }
 },
 "nbformat": 4,
 "nbformat_minor": 2
}

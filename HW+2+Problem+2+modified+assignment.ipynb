{
 "cells": [
  {
   "cell_type": "markdown",
   "metadata": {},
   "source": [
    "# Donovan Feist, u09249825, CH EN 2450"
   ]
  },
  {
   "cell_type": "markdown",
   "metadata": {},
   "source": [
    "## Homework 2"
   ]
  },
  {
   "cell_type": "markdown",
   "metadata": {},
   "source": [
    "### Problem 2 modified assignment"
   ]
  },
  {
   "cell_type": "markdown",
   "metadata": {},
   "source": [
    "Write a Python script that computes the natural logarithm function using a Taylor series\n",
    "expansion up to a desired number of significant digits."
   ]
  },
  {
   "cell_type": "code",
   "execution_count": 41,
   "metadata": {},
   "outputs": [],
   "source": [
    "def natural_log_of_1_minus_x(x,m):\n",
    "    #x is the value being evaluated by the function; m is the number of significant digints required\n",
    "    a=0.5*10**(2-m) #a is the maximum value for the approximate relative error (in %) that still guarantees m accurate significant digits\n",
    "    ϵa=10**6 #pick some value that will definite be larger than a at first\n",
    "    oldval=0\n",
    "    terms=1 #counter that keeps track of how many terms are in the taylor expansion\n",
    "    while ϵa > a:\n",
    "        newval=oldval+(-1)*(x**terms)/terms #taylor series for ln(1-x)\n",
    "        ϵa=abs((newval-oldval)/newval)*100 #approximate relative error (in %)\n",
    "        oldval=newval\n",
    "        terms+=1\n",
    "    return terms-1,newval"
   ]
  },
  {
   "cell_type": "code",
   "execution_count": 42,
   "metadata": {},
   "outputs": [
    {
     "name": "stdout",
     "output_type": "stream",
     "text": [
      "# of terms      value\n",
      "----------------------------\n",
      "3               0.09533333333333334\n",
      "3               0.09533333333333334\n",
      "5               0.09531033333333334\n",
      "7               0.09531018095238097\n",
      "13               0.09531017980432552\n"
     ]
    }
   ],
   "source": [
    "sig=[1,2,4,6,12] #the user can enter the desired number of significant digits here\n",
    "x=-0.1 #here the user can define the value of x to be evaluated by the natural log function (x must be between -1 and 1)\n",
    "\n",
    "print(\"# of terms      value\")\n",
    "print(\"----------------------------\")\n",
    "for m in sig:\n",
    "    terms, newval=natural_log_of_1_minus_x(x,m)\n",
    "    print(terms,\"             \", newval)"
   ]
  },
  {
   "cell_type": "markdown",
   "metadata": {},
   "source": [
    "In calculating $ln(1.1)$, the following values were obtained:\n",
    "\n",
    "| # of terms | significant digits | value           |\n",
    "|------------|--------------------|-----------------|\n",
    "| 3          | 1                  | 0.09            |\n",
    "| 3          | 2                  | 0.095           |\n",
    "| 5          | 4                  | 0.09531         |\n",
    "| 7          | 6                  | 0.0953102       |\n",
    "| 13         | 12                 | 0.0953101798043 |"
   ]
  },
  {
   "cell_type": "code",
   "execution_count": null,
   "metadata": {
    "collapsed": true
   },
   "outputs": [],
   "source": []
  }
 ],
 "metadata": {
  "kernelspec": {
   "display_name": "Python 3",
   "language": "python",
   "name": "python3"
  },
  "language_info": {
   "codemirror_mode": {
    "name": "ipython",
    "version": 3
   },
   "file_extension": ".py",
   "mimetype": "text/x-python",
   "name": "python",
   "nbconvert_exporter": "python",
   "pygments_lexer": "ipython3",
   "version": "3.5.2"
  }
 },
 "nbformat": 4,
 "nbformat_minor": 2
}

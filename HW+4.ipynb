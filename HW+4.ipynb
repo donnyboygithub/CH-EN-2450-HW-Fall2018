{
 "cells": [
  {
   "cell_type": "markdown",
   "metadata": {
    "collapsed": true
   },
   "source": [
    "# Donovan Feist; u0924825; CH EN 2450"
   ]
  },
  {
   "cell_type": "markdown",
   "metadata": {},
   "source": [
    "# Homework 4 - Iterative Linear Solvers"
   ]
  },
  {
   "cell_type": "markdown",
   "metadata": {},
   "source": [
    "## Problem 1"
   ]
  },
  {
   "cell_type": "markdown",
   "metadata": {},
   "source": [
    "Consider the following system of equations:\n",
    "\\begin{array}{lcl} x+2y+z=1 \\\\ y-6z=2\\\\ 10x-y+4z=6 \\end{array}\n",
    "  \n",
    "with an initial guess of\n",
    "\n",
    "$$\n",
    "\\left(\\begin{array}{cc} \n",
    "x\\\\y\\\\z\n",
    "\\end{array}\\right)\n",
    "=\n",
    "\\left(\\begin{array}{cc} \n",
    "1\\\\2\\\\3\n",
    "\\end{array}\\right).\n",
    "$$"
   ]
  },
  {
   "cell_type": "markdown",
   "metadata": {},
   "source": [
    "### Part 1"
   ]
  },
  {
   "cell_type": "markdown",
   "metadata": {},
   "source": [
    "### Write these in matrix form directly from the ordering given above and perform two iterations of the Jacobi method (by hand)."
   ]
  },
  {
   "cell_type": "markdown",
   "metadata": {},
   "source": [
    "#### Writing the system of equations in matrix form would have the following appearance:"
   ]
  },
  {
   "cell_type": "markdown",
   "metadata": {},
   "source": [
    "$$\n",
    "\\left(\\begin{array}{cc} \n",
    "1 & 2 & 1\\\\0 & 1 & -6\\\\10 & -1 & 4\n",
    "\\end{array}\\right)\n",
    "\\left(\\begin{array}{cc}\n",
    "x\\\\y\\\\z\n",
    "\\end{array}\\right)\n",
    "=\n",
    "\\left(\\begin{array}{cc} \n",
    "1\\\\2\\\\6\n",
    "\\end{array}\\right).\n",
    "$$"
   ]
  },
  {
   "cell_type": "markdown",
   "metadata": {},
   "source": [
    "#### Performing the first iteration of the Jacobi method will take the following form:"
   ]
  },
  {
   "cell_type": "markdown",
   "metadata": {},
   "source": [
    "Taking the initial guess to be\n",
    "$$\n",
    "\\left(\\begin{array}{cc} \n",
    "x^0\\\\y^0\\\\z^0\n",
    "\\end{array}\\right)\n",
    "=\n",
    "\\left(\\begin{array}{cc} \n",
    "1\\\\2\\\\3\n",
    "\\end{array}\\right),\n",
    "$$"
   ]
  },
  {
   "cell_type": "markdown",
   "metadata": {},
   "source": [
    "and given that the Jacobi method uses this equation:\n",
    "\\begin{array}{lcl} x_i^{k+1}=x_i^k+\\frac{1}{a_{ii}}(b_i-\\sum_{j=1}^n a_{ij}x_j^k), \\end{array}"
   ]
  },
  {
   "cell_type": "markdown",
   "metadata": {},
   "source": [
    "with k=0 the calculations would be done as follows:\n",
    "\\begin{array}{lcl}\n",
    "x^1=1+\\frac {1}{1} (1-(1\\times1+2\\times2+1\\times3))=-6\n",
    "\\\\\n",
    "y^1=2+\\frac {1}{1} (2-(0\\times1+1\\times2+(-6)\\times3))=20\n",
    "\\\\\n",
    "z^1=3+\\frac{1}{4} (6-(10\\times1+(-1)\\times2+4\\times3))=-0.5.\n",
    "\\end{array}"
   ]
  },
  {
   "cell_type": "markdown",
   "metadata": {},
   "source": [
    "#### Performing the second iteration of the Jacobi method will take the following form:"
   ]
  },
  {
   "cell_type": "markdown",
   "metadata": {},
   "source": [
    "Updated guess is\n",
    "$$\n",
    "\\left(\\begin{array}{cc} \n",
    "x^1\\\\y^1\\\\z^1\n",
    "\\end{array}\\right)\n",
    "=\n",
    "\\left(\\begin{array}{cc} \n",
    "-6\\\\20\\\\-0.5\n",
    "\\end{array}\\right),\n",
    "$$"
   ]
  },
  {
   "cell_type": "markdown",
   "metadata": {},
   "source": [
    "and once again using the equation\n",
    "\\begin{array}{lcl} x_i^{k+1}=x_i^k+\\frac{1}{a_{ii}}(b_i-\\sum_{j=1}^n a_{ij}x_j^k), \\end{array}"
   ]
  },
  {
   "cell_type": "markdown",
   "metadata": {},
   "source": [
    "this time with k=1, the calcualations are as follows:\n",
    "\\begin{array}{lcl}\n",
    "x^2=-6+\\frac {1}{1} (1-(1\\times(-6)+2\\times20+1\\times(-0.5)))=-38.5\n",
    "\\\\\n",
    "y^2=20+\\frac {1}{1} (2-(0\\times(-6)+1\\times20+(-6)\\times(-0.5)))=-1\n",
    "\\\\\n",
    "z^2=-0.5+\\frac{1}{4} (6-(10\\times(-6)+(-1)\\times20+4\\times(-0.5)))=21.5,\n",
    "\\end{array}"
   ]
  },
  {
   "cell_type": "markdown",
   "metadata": {},
   "source": [
    "yielding\n",
    "$$\n",
    "\\left(\\begin{array}{cc} \n",
    "x^2\\\\y^2\\\\z^2\n",
    "\\end{array}\\right)\n",
    "=\n",
    "\\left(\\begin{array}{cc} \n",
    "-38.5\\\\-1\\\\21.5\n",
    "\\end{array}\\right).\n",
    "$$"
   ]
  },
  {
   "cell_type": "markdown",
   "metadata": {},
   "source": [
    "### Part 2"
   ]
  },
  {
   "cell_type": "markdown",
   "metadata": {},
   "source": [
    "### Rewrite these in a form that is diagonally-dominant and then show two iterations of the Jacobi method (by hand)."
   ]
  },
  {
   "cell_type": "markdown",
   "metadata": {},
   "source": [
    "Switching row 1 with row 3 yields:\n",
    "$$\n",
    "\\left(\\begin{array}{cc} \n",
    "1 & 2 & 1\\\\0 & 1 & -6\\\\10 & -1 & 4\n",
    "\\end{array}\\right)\n",
    "\\left(\\begin{array}{cc}\n",
    "x\\\\y\\\\z\n",
    "\\end{array}\\right)\n",
    "=\n",
    "\\left(\\begin{array}{cc} \n",
    "1\\\\2\\\\6\n",
    "\\end{array}\\right)\n",
    "\\to\n",
    "\\left(\\begin{array}{cc} \n",
    "10 & -1 & 4\\\\0 & 1 & -6\\\\1 & 2 & 1\n",
    "\\end{array}\\right)\n",
    "\\left(\\begin{array}{cc}\n",
    "z\\\\y\\\\x\n",
    "\\end{array}\\right)\n",
    "=\n",
    "\\left(\\begin{array}{cc} \n",
    "6\\\\2\\\\1\n",
    "\\end{array}\\right).\n",
    "$$"
   ]
  },
  {
   "cell_type": "markdown",
   "metadata": {},
   "source": [
    "Switching row 2 with row 3 yields:\n",
    "$$\\left(\\begin{array}{cc} \n",
    "10 & -1 & 4\\\\0 & 1 & -6\\\\1 & 2 & 1\n",
    "\\end{array}\\right)\n",
    "\\left(\\begin{array}{cc}\n",
    "z\\\\y\\\\x\n",
    "\\end{array}\\right)\n",
    "=\n",
    "\\left(\\begin{array}{cc} \n",
    "6\\\\2\\\\1\n",
    "\\end{array}\\right)\n",
    "\\to\n",
    "\\left(\\begin{array}{cc} \n",
    "10 & -1 & 4\\\\1 & 2 & 1\\\\0 & 1 & -6\n",
    "\\end{array}\\right)\n",
    "\\left(\\begin{array}{cc}\n",
    "z\\\\x\\\\y\n",
    "\\end{array}\\right)\n",
    "=\n",
    "\\left(\\begin{array}{cc} \n",
    "6\\\\1\\\\2\n",
    "\\end{array}\\right).\n",
    "$$"
   ]
  },
  {
   "cell_type": "markdown",
   "metadata": {},
   "source": [
    "For a square matrix to be diagonally dominant, the magnitude of the diagonal entry of each row must be GREATER THAN or EQUAL TO the magnitude of the sum of the non-diagonal entries. After rearanging the rows as described above, the matrix\n",
    "$$\n",
    "\\left(\\begin{array}{cc} \n",
    "10 & -1 & 4\\\\1 & 2 & 1\\\\0 & 1 & -6\n",
    "\\end{array}\\right)\n",
    "\\left(\\begin{array}{cc}\n",
    "z\\\\x\\\\y\n",
    "\\end{array}\\right)\n",
    "=\n",
    "\\left(\\begin{array}{cc} \n",
    "6\\\\1\\\\2\n",
    "\\end{array}\\right)\n",
    "$$\n",
    "is now diagonally dominant."
   ]
  },
  {
   "cell_type": "markdown",
   "metadata": {},
   "source": [
    "Performing the first iteration of the Jacobi method is done as follows:"
   ]
  },
  {
   "cell_type": "markdown",
   "metadata": {},
   "source": [
    "Taking the initial guess to be\n",
    "$$\n",
    "\\left(\\begin{array}{cc} \n",
    "z^0\\\\x^0\\\\y^0\n",
    "\\end{array}\\right)\n",
    "=\n",
    "\\left(\\begin{array}{cc} \n",
    "3\\\\1\\\\2\n",
    "\\end{array}\\right),\n",
    "$$"
   ]
  },
  {
   "cell_type": "markdown",
   "metadata": {},
   "source": [
    "and using the equation\n",
    "\\begin{array}{lcl} x_i^{k+1}=x_i^k+\\frac{1}{a_{ii}}(b_i-\\sum_{j=1}^n a_{ij}x_j^k), \\end{array}"
   ]
  },
  {
   "cell_type": "markdown",
   "metadata": {},
   "source": [
    "with k=0, the calculations would be done as follows:\n",
    "\\begin{array}{lcl}\n",
    "z^1=3+\\frac {1}{10} (6-(10\\times3+(-1)\\times1+4\\times2))=-0.1\n",
    "\\\\\n",
    "x^1=1+\\frac {1}{2} (1-(1\\times3+2\\times1+1\\times2))=-2\n",
    "\\\\\n",
    "y^1=2+\\frac{1}{-6} (2-(0\\times3+1\\times1+(-6)\\times2))=-0.1\\overline{66},\n",
    "\\end{array}"
   ]
  },
  {
   "cell_type": "markdown",
   "metadata": {},
   "source": [
    "yielding the updated guess to be\n",
    "$$\n",
    "\\left(\\begin{array}{cc} \n",
    "z^1\\\\x^1\\\\y^1\n",
    "\\end{array}\\right)\n",
    "=\n",
    "\\left(\\begin{array}{cc} \n",
    "-0.1\\\\-2\\\\-0.1\\overline{66}\n",
    "\\end{array}\\right).\n",
    "$$"
   ]
  },
  {
   "cell_type": "markdown",
   "metadata": {},
   "source": [
    "Performing the second iteration of the Jacobi method is done as follows:"
   ]
  },
  {
   "cell_type": "markdown",
   "metadata": {},
   "source": [
    "using\n",
    "$$\n",
    "\\left(\\begin{array}{cc} \n",
    "z^1\\\\x^1\\\\y^1\n",
    "\\end{array}\\right)\n",
    "=\n",
    "\\left(\\begin{array}{cc} \n",
    "-0.1\\\\-2\\\\-0.1\\overline{66}\n",
    "\\end{array}\\right).\n",
    "$$\n",
    "as the guess,"
   ]
  },
  {
   "cell_type": "markdown",
   "metadata": {},
   "source": [
    "and\n",
    "\\begin{array}{lcl} x_i^{k+1}=x_i^k+\\frac{1}{a_{ii}}(b_i-\\sum_{j=1}^n a_{ij}x_j^k) \\end{array}\n",
    "as the equation,"
   ]
  },
  {
   "cell_type": "markdown",
   "metadata": {},
   "source": [
    "with k=1, the calculations would be done as follows:\n",
    "\\begin{array}{lcl}\n",
    "z^2=-0.1+\\frac {1}{10} (6-(10\\times(-0.1)+(-1)\\times(-2)+4\\times(-0.1\\overline{66}))=0.4\\overline{66}\n",
    "\\\\\n",
    "x^2=-2+\\frac {1}{2} (1-(1\\times(-0.1)+2\\times(-2)+1\\times(-0.1\\overline{66}))=0.6\\overline{33}\n",
    "\\\\\n",
    "y^2=-0.1\\overline{66}+\\frac{1}{-6} (2-(0\\times(-0.1)+1\\times(-2)+(-6)\\times(-0.1\\overline{66}))=-0.\\overline{66},\n",
    "\\end{array}"
   ]
  },
  {
   "cell_type": "markdown",
   "metadata": {},
   "source": [
    "yielding the updated guess to be\n",
    "$$\n",
    "\\left(\\begin{array}{cc} \n",
    "z^2\\\\x^2\\\\y^2\n",
    "\\end{array}\\right)\n",
    "=\n",
    "\\left(\\begin{array}{cc} \n",
    "0.4\\overline{66}\\\\0.6\\overline{33}\\\\-0.\\overline{66}\n",
    "\\end{array}\\right).\n",
    "$$"
   ]
  },
  {
   "cell_type": "markdown",
   "metadata": {},
   "source": [
    "### Part 3"
   ]
  },
  {
   "cell_type": "markdown",
   "metadata": {},
   "source": [
    "### For the rewritten (diagonally-dominant) system, show two iterations of the Gauss-Seidel method (by hand)."
   ]
  },
  {
   "cell_type": "markdown",
   "metadata": {},
   "source": [
    "With the rewritten, diagonally-dominant system being\n",
    "$$\n",
    "\\left(\\begin{array}{cc} \n",
    "10 & -1 & 4\\\\1 & 2 & 1\\\\0 & 1 & -6\n",
    "\\end{array}\\right)\n",
    "\\left(\\begin{array}{cc}\n",
    "z\\\\x\\\\y\n",
    "\\end{array}\\right)\n",
    "=\n",
    "\\left(\\begin{array}{cc} \n",
    "6\\\\1\\\\2\n",
    "\\end{array}\\right),\n",
    "$$"
   ]
  },
  {
   "cell_type": "markdown",
   "metadata": {},
   "source": [
    "and the equation for the Gauss-Seidel method being\n",
    "\\begin{array}{lcl} x_i^k=x_i^k+\\frac{1}{a_{ii}}(b_i-\\sum_{j=1}^n a_{ij}x_j^k), \\end{array}"
   ]
  },
  {
   "cell_type": "markdown",
   "metadata": {},
   "source": [
    "and the initial guess being\n",
    "$$\n",
    "\\left(\\begin{array}{cc} \n",
    "z^0\\\\x^0\\\\y^0\n",
    "\\end{array}\\right)\n",
    "=\n",
    "\\left(\\begin{array}{cc} \n",
    "3\\\\1\\\\2\n",
    "\\end{array}\\right),\n",
    "$$"
   ]
  },
  {
   "cell_type": "markdown",
   "metadata": {},
   "source": [
    "the calculations for the first iteration would be done as follows:\n",
    "\\begin{array}{lcl}\n",
    "z^1=3+\\frac {1}{10} (6-(10\\times3+(-1)\\times1+4\\times2))=-0.1\n",
    "\\\\\n",
    "x^1=1+\\frac {1}{2} (1-(1\\times(-0.1)+2\\times1+1\\times2))=-0.45\n",
    "\\\\\n",
    "y^1=2+\\frac{1}{-6} (2-(0\\times(-0.1)+1\\times(-0.45)+(-6)\\times2))=-0.408\\overline{33},\n",
    "\\end{array}"
   ]
  },
  {
   "cell_type": "markdown",
   "metadata": {},
   "source": [
    "yielding\n",
    "$$\n",
    "\\left(\\begin{array}{cc} \n",
    "z^1\\\\x^1\\\\y^1\n",
    "\\end{array}\\right)\n",
    "=\n",
    "\\left(\\begin{array}{cc} \n",
    "-0.1\\\\-0.45\\\\-0.408\\overline{33}\n",
    "\\end{array}\\right)\n",
    "$$\n",
    "as the new guess."
   ]
  },
  {
   "cell_type": "markdown",
   "metadata": {},
   "source": [
    "Using the guess specified above, the calculations for the second iteration would be as follows:\n",
    "\\begin{array}{lcl}\n",
    "z^2=-0.1+\\frac {1}{10} (6-(10\\times(-0.1)+(-1)\\times(-0.45)+4\\times(-0.408\\overline{33}))=0.718\\overline{33}\n",
    "\\\\\n",
    "x^2=-0.45+\\frac {1}{2} (1-(1\\times0.718\\overline{33}+2\\times(-0.45)+1\\times(-0.408\\overline{33})))=0.345\n",
    "\\\\\n",
    "y^2=-0.408\\overline{33}+\\frac{1}{-6} (2-(0\\times0.718\\overline{33}+1\\times0.345+(-6)\\times(-0.408\\overline{33})))=-0.2758\\overline{33},\n",
    "\\end{array}"
   ]
  },
  {
   "cell_type": "markdown",
   "metadata": {},
   "source": [
    "yielding\n",
    "$$\n",
    "\\left(\\begin{array}{cc} \n",
    "z^2\\\\x^2\\\\y^2\n",
    "\\end{array}\\right)\n",
    "=\n",
    "\\left(\\begin{array}{cc} \n",
    "0.718\\overline{33}\\\\0.345\\\\-0.2758\\overline{33}\n",
    "\\end{array}\\right)\n",
    "$$\n",
    "as the new guess after the second iteration."
   ]
  },
  {
   "cell_type": "markdown",
   "metadata": {},
   "source": [
    "### Part 4"
   ]
  },
  {
   "cell_type": "markdown",
   "metadata": {},
   "source": [
    "### Prepare a table that shows the L2 norm for of the residual error, $||\\vec{b}-A\\vec{x}||_2$, after the second iteration for each of the previous parts (1-3) of the problem and comment on your findings."
   ]
  },
  {
   "cell_type": "markdown",
   "metadata": {},
   "source": [
    "Absolute Error=$\\epsilon=||\\vec{b}-A\\vec{x}||$."
   ]
  },
  {
   "cell_type": "markdown",
   "metadata": {},
   "source": [
    "For Part 1:\n",
    "$$\n",
    "\\left(\\begin{array}{cc} \n",
    "\\vec{b}\n",
    "\\end{array}\\right)\n",
    "=\n",
    "\\left(\\begin{array}{cc}\n",
    "1\\\\2\\\\6\n",
    "\\end{array}\\right),\n",
    "$$"
   ]
  },
  {
   "cell_type": "markdown",
   "metadata": {},
   "source": [
    "$$\n",
    "\\left(\\begin{array}{cc} \n",
    "A\n",
    "\\end{array}\\right)\n",
    "=\n",
    "\\left(\\begin{array}{cc} \n",
    "1 & 2 & 1\\\\0 & 1 & -6\\\\10 & -1 & 4\n",
    "\\end{array}\\right),\n",
    "$$"
   ]
  },
  {
   "cell_type": "markdown",
   "metadata": {},
   "source": [
    "and after the second iteration,\n",
    "$$\n",
    "\\left(\\begin{array}{cc}\n",
    "\\vec{x}\n",
    "\\end{array}\\right)\n",
    "=\n",
    "\\left(\\begin{array}{cc} \n",
    "x^2\\\\y^2\\\\z^2\n",
    "\\end{array}\\right)\n",
    "=\n",
    "\\left(\\begin{array}{cc} \n",
    "-38.5\\\\-1\\\\21.5\n",
    "\\end{array}\\right).\n",
    "$$"
   ]
  },
  {
   "cell_type": "code",
   "execution_count": 156,
   "metadata": {},
   "outputs": [
    {
     "name": "stdout",
     "output_type": "stream",
     "text": [
      "The L-2 norm for the second iteration is  332.02409551115414\n"
     ]
    }
   ],
   "source": [
    "import numpy as np\n",
    "b=[1,2,6]\n",
    "A=[[1,2,1],[0,1,-6],[10,-1,4]]\n",
    "x=[-38.5,-1,21.5]\n",
    "a=b-np.matmul(A,x)\n",
    "print(\"The L-2 norm for the second iteration is \", np.linalg.norm(a,2))"
   ]
  },
  {
   "cell_type": "markdown",
   "metadata": {},
   "source": [
    "For Part 2:\n",
    "$$\n",
    "\\left(\\begin{array}{cc}\n",
    "\\vec{b}\n",
    "\\end{array}\\right)\n",
    "=\n",
    "\\left(\\begin{array}{cc} \n",
    "6\\\\1\\\\2\n",
    "\\end{array}\\right),\n",
    "$$"
   ]
  },
  {
   "cell_type": "markdown",
   "metadata": {},
   "source": [
    "$$\n",
    "\\left(\\begin{array}{cc}\n",
    "A\n",
    "\\end{array}\\right)\n",
    "=\n",
    "\\left(\\begin{array}{cc} \n",
    "10 & -1 & 4\\\\1 & 2 & 1\\\\0 & 1 & -6\n",
    "\\end{array}\\right),\n",
    "$$"
   ]
  },
  {
   "cell_type": "markdown",
   "metadata": {},
   "source": [
    "and after the second iteration,\n",
    "$$\n",
    "\\left(\\begin{array}{cc}\n",
    "\\vec{x}\n",
    "\\end{array}\\right)\n",
    "=\n",
    "\\left(\\begin{array}{cc} \n",
    "z^2\\\\x^2\\\\y^2\n",
    "\\end{array}\\right)\n",
    "=\n",
    "\\left(\\begin{array}{cc} \n",
    "0.4\\overline{66}\\\\0.6\\overline{33}\\\\-0.\\overline{66}\n",
    "\\end{array}\\right).\n",
    "$$"
   ]
  },
  {
   "cell_type": "code",
   "execution_count": 157,
   "metadata": {},
   "outputs": [
    {
     "name": "stdout",
     "output_type": "stream",
     "text": [
      "The L-2 norm for the second iteration is  5.329786736198177\n"
     ]
    }
   ],
   "source": [
    "b=[6,1,2]\n",
    "A=[[10,-1,4],[1,2,1],[0,1,-6]]\n",
    "x=[0.4666666,0.6333333, -0.666666]\n",
    "a=b-np.matmul(A,x)\n",
    "print(\"The L-2 norm for the second iteration is \", np.linalg.norm(a,2))"
   ]
  },
  {
   "cell_type": "markdown",
   "metadata": {},
   "source": [
    "For Part 3:\n",
    "$$\n",
    "\\left(\\begin{array}{cc}\n",
    "\\vec{b}\n",
    "\\end{array}\\right)\n",
    "=\n",
    "\\left(\\begin{array}{cc} \n",
    "6\\\\1\\\\2\n",
    "\\end{array}\\right),\n",
    "$$"
   ]
  },
  {
   "cell_type": "markdown",
   "metadata": {},
   "source": [
    "$$\n",
    "\\left(\\begin{array}{cc}\n",
    "A\n",
    "\\end{array}\\right)\n",
    "=\n",
    "\\left(\\begin{array}{cc} \n",
    "10 & -1 & 4\\\\1 & 2 & 1\\\\0 & 1 & -6\n",
    "\\end{array}\\right),\n",
    "$$"
   ]
  },
  {
   "cell_type": "markdown",
   "metadata": {},
   "source": [
    "and after the second iteration,\n",
    "$$\n",
    "\\left(\\begin{array}{cc}\n",
    "\\vec{x}\n",
    "\\end{array}\\right)\n",
    "=\n",
    "\\left(\\begin{array}{cc} \n",
    "z^2\\\\x^2\\\\y^2\n",
    "\\end{array}\\right)\n",
    "=\n",
    "\\left(\\begin{array}{cc} \n",
    "0.718\\overline{33}\\\\0.345\\\\-0.2758\\overline{33}\n",
    "\\end{array}\\right).\n",
    "$$"
   ]
  },
  {
   "cell_type": "code",
   "execution_count": 158,
   "metadata": {},
   "outputs": [
    {
     "name": "stdout",
     "output_type": "stream",
     "text": [
      "The L-2 norm for the second iteration is  0.296279009746725\n"
     ]
    }
   ],
   "source": [
    "b=[6,1,2]\n",
    "A=[[10,-1,4],[1,2,1],[0,1,-6]]\n",
    "x=[0.718333333,0.345, -0.2758333333]\n",
    "a=b-np.matmul(A,x)\n",
    "print(\"The L-2 norm for the second iteration is \", np.linalg.norm(a,2))"
   ]
  },
  {
   "cell_type": "markdown",
   "metadata": {},
   "source": [
    "The following table displays information about the three methods demonstrated above."
   ]
  },
  {
   "cell_type": "markdown",
   "metadata": {},
   "source": [
    "|       | method      | diagonally dominant| # of iterations  | L-2 norm (to 3 significant digits)|\n",
    "|-------|-------------|--------------------|------------------|-----------------------------------|\n",
    "|Part 1 | Jacobi      | no                 | 2                | 332                               |\n",
    "|Part 2 | Jacobi      | yes                | 2                | 5.33                              |\n",
    "|Part 3 | Gauss-Seidel| yes                | 2                | 0.296                             |"
   ]
  },
  {
   "cell_type": "markdown",
   "metadata": {},
   "source": [
    "The information in this table indicates that the Jacobi method does not converge when the matrix created from the system of equations is not diagonally dominant. This is determined by recognizing that the L-2 norm is huge.\n",
    "\n",
    "However, when the matrix is diagonally dominant, the iterations begin to converge to the true value. This is determined by recognizing that the L-2 norm is small compared to the L-2 norm of the non-diagonally dominant Jacobi method.\n",
    "\n",
    "When the Gauss-Seidel mothod is used, with the matrix being diagonally dominant, the iterations will converge to the true value rather quickly, as indicated by the L-2 norm which is very small compared to the other two methods."
   ]
  },
  {
   "cell_type": "markdown",
   "metadata": {
    "collapsed": true
   },
   "source": [
    "## Problem 2"
   ]
  },
  {
   "cell_type": "markdown",
   "metadata": {},
   "source": [
    "### Part 1"
   ]
  },
  {
   "cell_type": "markdown",
   "metadata": {},
   "source": [
    "#### Section a"
   ]
  },
  {
   "cell_type": "markdown",
   "metadata": {},
   "source": [
    "### Write a function in Python that implements the exact solution given by (2). Then, use that function to plot the analytical solution on the interval $x\\in[0,1]$. Use 100 points for the x-axis."
   ]
  },
  {
   "cell_type": "markdown",
   "metadata": {},
   "source": [
    "Below the vales for the various constants and parameteres can be adjusted."
   ]
  },
  {
   "cell_type": "code",
   "execution_count": 159,
   "metadata": {
    "collapsed": true
   },
   "outputs": [],
   "source": [
    "n=100 #here the user can set the number of grid points; also equivalent to the number of independent equations\n",
    "L=1 #in units of m\n",
    "T_0=500\n",
    "T_L=600\n",
    "T_inf=300\n",
    "h=100 #in units of m^-2"
   ]
  },
  {
   "cell_type": "markdown",
   "metadata": {},
   "source": [
    "Below the exact solution for the temperature distribution within a rod is defined as a funtion."
   ]
  },
  {
   "cell_type": "code",
   "execution_count": 160,
   "metadata": {
    "collapsed": true
   },
   "outputs": [],
   "source": [
    "import numpy as np\n",
    "def T(x):\n",
    "    C_1=1/(np.exp(2*L*np.sqrt(h))-1)*(T_0-T_inf+(T_0-T_inf)*(np.exp(2*L*np.sqrt(h))-1)+(T_inf-T_L)*np.exp(L*np.sqrt(h)))\n",
    "    C_2=(T_inf-T_0+(T_L-T_inf)*np.exp(L*np.sqrt(h)))/(np.exp(2*L*np.sqrt(h))-1)\n",
    "    a=C_1*np.exp(-1*x*np.sqrt(h))+C_2*np.exp(x*np.sqrt(h))+T_inf\n",
    "    return a"
   ]
  },
  {
   "cell_type": "markdown",
   "metadata": {},
   "source": [
    "Below the x and y points are generated."
   ]
  },
  {
   "cell_type": "code",
   "execution_count": 161,
   "metadata": {},
   "outputs": [
    {
     "data": {
      "text/plain": [
       "array([500.        , 480.78753657, 463.42122459, 447.72372418,\n",
       "       433.53473687, 420.70936872, 409.11665068, 398.63820117,\n",
       "       389.16701722, 380.60638177, 372.868876  , 365.87548669,\n",
       "       359.55479931, 353.84226879, 348.67956036, 344.01395391,\n",
       "       339.79780558, 335.98806123, 332.54581684, 329.43592118,\n",
       "       326.62661686, 324.08921606, 321.79780755, 319.72899212,\n",
       "       317.86164361, 316.17669318, 314.65693459, 313.28684849,\n",
       "       312.05244394, 310.94111557, 309.94151478, 309.04343395,\n",
       "       308.23770212, 307.51609139, 306.87123287, 306.29654144,\n",
       "       305.78614853, 305.33484213, 304.93801364, 304.59161076,\n",
       "       304.29209612, 304.03641115, 303.82194488, 303.64650723,\n",
       "       303.50830669, 303.40593199, 303.33833771, 303.30483359,\n",
       "       303.30507751, 303.33907195, 303.40716405, 303.51004915,\n",
       "       303.64877788, 303.82476691, 304.03981338, 304.29611329,\n",
       "       304.5962839 , 304.94339046, 305.34097754, 305.79310518,\n",
       "       306.30439038, 306.88005424, 307.52597528, 308.24874946,\n",
       "       309.05575755, 309.95524048, 310.95638353, 312.06941009,\n",
       "       313.30568607, 314.67783597, 316.1998718 , 317.88733616,\n",
       "       319.75746097, 321.8293434 , 324.12414096, 326.66528745,\n",
       "       329.47873235, 332.59320577, 336.04051184, 339.85585348,\n",
       "       344.07819188, 348.75064437, 353.92092472, 359.64183038,\n",
       "       365.97178164, 372.97541817, 380.72425913, 389.29743351,\n",
       "       398.78248816, 409.27628179, 420.88597405, 433.73011987,\n",
       "       447.93988004, 463.66036065, 481.0520948 , 500.29268201,\n",
       "       521.57860173, 545.12721978, 571.17900802, 600.        ])"
      ]
     },
     "execution_count": 161,
     "metadata": {},
     "output_type": "execute_result"
    }
   ],
   "source": [
    "x=np.linspace(0,L,n)\n",
    "T(x)"
   ]
  },
  {
   "cell_type": "markdown",
   "metadata": {},
   "source": [
    "Below is the code that plots the Temperature vs x."
   ]
  },
  {
   "cell_type": "code",
   "execution_count": 162,
   "metadata": {},
   "outputs": [
    {
     "data": {
      "image/png": "[encoded data removed]",
      "text/plain": [
       "<Figure size 432x288 with 1 Axes>"
      ]
     },
     "metadata": {},
     "output_type": "display_data"
    }
   ],
   "source": [
    "import matplotlib.pyplot as plt\n",
    "plt.xlabel(\"x (meters)\") # set x label\n",
    "plt.ylabel(\"Temperature (Kelvin)\") # set y label\n",
    "plt.plot(x,T(x),\"-r\")\n",
    "plt.grid(True,which=\"major\") # turn on major grid axes\n",
    "plt.grid(True,which=\"minor\") # turn on minor grid axes\n",
    "plt.show()"
   ]
  },
  {
   "cell_type": "markdown",
   "metadata": {},
   "source": [
    "#### Section b"
   ]
  },
  {
   "cell_type": "markdown",
   "metadata": {},
   "source": [
    "Solve the system of equations in (5) using the Jacobi and Gauss-Seidel methods,\n",
    "using a tolerance of $\\varepsilon =0.5$ based on the absolute error of $||A\\vec{x}-\\vec{b}||_2$."
   ]
  },
  {
   "cell_type": "markdown",
   "metadata": {},
   "source": [
    "Using the Jacobi method:"
   ]
  },
  {
   "cell_type": "markdown",
   "metadata": {},
   "source": [
    "Create the matrix \"A\"."
   ]
  },
  {
   "cell_type": "code",
   "execution_count": 163,
   "metadata": {
    "collapsed": true
   },
   "outputs": [],
   "source": [
    "d=np.ones(n)\n",
    "Δx=L/(n-1)\n",
    "for i in range(1,n-1):\n",
    "    d[i]=-(2+h*(Δx)**2)\n",
    "u=np.ones(n-1)\n",
    "u[0]=0\n",
    "l=np.ones(n-1)\n",
    "l[n-2]=0\n",
    "A=np.diag(l,-1)+np.diag(d,0)+np.diag(u,1)"
   ]
  },
  {
   "cell_type": "markdown",
   "metadata": {},
   "source": [
    "Create the matrix $\\vec{b}$."
   ]
  },
  {
   "cell_type": "code",
   "execution_count": 164,
   "metadata": {
    "collapsed": true
   },
   "outputs": [],
   "source": [
    "b=np.ones(n)\n",
    "b[0]=T_0\n",
    "b[n-1]=T_L\n",
    "for i in range(1,n-1):\n",
    "    b[i]=-(h*(Δx)**2*T_inf)"
   ]
  },
  {
   "cell_type": "code",
   "execution_count": 165,
   "metadata": {},
   "outputs": [],
   "source": [
    "ɛ=0.5 #here the user can specify the tolerance to be used\n",
    "def jacobi(A,b,Tguess_j,ɛ):\n",
    "    # make sure the matrix dimensions are the same\n",
    "    [nr,nc]=A.shape\n",
    "    r=np.matmul(A,Tguess_j)-b\n",
    "    iterations=0\n",
    "    T = np.zeros(nr)\n",
    "    while (np.linalg.norm(r,2)>ɛ):\n",
    "        for i in range (0,nr):\n",
    "            T[i]=Tguess_j[i]+1/A[i,i]*(b[i]-A[i]@Tguess_j)\n",
    "        r=np.matmul(A,T)-b\n",
    "        Tguess_j=T\n",
    "        iterations+=1\n",
    "    print(iterations, \" iterations were used to achieve a tolerance of less than ɛ using the Jacobi method.\")\n",
    "    return T"
   ]
  },
  {
   "cell_type": "code",
   "execution_count": 166,
   "metadata": {
    "scrolled": true
   },
   "outputs": [
    {
     "name": "stdout",
     "output_type": "stream",
     "text": [
      "375  iterations were used to achieve a tolerance of less than ɛ using the Jacobi method.\n"
     ]
    },
    {
     "data": {
      "text/plain": [
       "array([500.        , 480.55058338, 462.94888459, 447.01803067,\n",
       "       432.59815261, 419.54475086, 407.7272179 , 397.02750272,\n",
       "       387.33890367, 378.5649773 , 370.61855216, 363.4208374 ,\n",
       "       356.90061711, 350.99352228, 345.64137275, 340.79158268,\n",
       "       336.3966232 , 332.41353702, 328.80349983, 325.53142412,\n",
       "       322.56560132, 319.87737861, 317.44086709, 315.23267833,\n",
       "       313.23168653, 311.418814  , 309.77683748, 308.2902137 ,\n",
       "       306.94492191, 305.72832225, 304.62902801, 303.63679089,\n",
       "       302.74239778, 301.93757807, 301.21492058, 300.56779922,\n",
       "       299.99030653, 299.47719453, 299.02382216, 298.62610884,\n",
       "       298.28049355, 297.98389918, 297.73370159, 297.52770321,\n",
       "       297.36411079, 297.24151714, 297.15888666, 297.11554449,\n",
       "       297.1111692 , 297.14578893, 297.21978096, 297.3338747 ,\n",
       "       297.48915817, 297.68708798, 297.92950306, 298.21864208,\n",
       "       298.55716502, 298.94817887, 299.39526798, 299.90252912,\n",
       "       300.47461193, 301.11676495, 301.83488781, 302.63559023,\n",
       "       303.52625823, 304.51512848, 305.61137138, 306.82518397,\n",
       "       308.16789328, 309.65207162, 311.29166459, 313.10213353,\n",
       "       315.1006135 , 317.30608867, 319.73958686, 322.42439517,\n",
       "       325.3862989 , 328.65384633, 332.25864189, 336.23567083,\n",
       "       340.62365865, 345.46546899, 350.80854392, 356.7053913 ,\n",
       "       363.21412402, 370.3990566 , 378.33136536, 387.08981876,\n",
       "       396.76158533, 407.44312748, 419.24119034, 432.27389546,\n",
       "       446.67195078, 462.57998905, 480.15804832, 499.58320965,\n",
       "       521.05140867, 544.77943945, 571.00717115, 600.        ])"
      ]
     },
     "execution_count": 166,
     "metadata": {},
     "output_type": "execute_result"
    }
   ],
   "source": [
    "Tguess_j=np.zeros(n) #here the user defines the inputs the intital guess for the jacobi method (usually all zero entries)\n",
    "jacobi(A,b,Tguess_j,ɛ)"
   ]
  },
  {
   "cell_type": "markdown",
   "metadata": {},
   "source": [
    "Using the Gauss-Seidel method:"
   ]
  },
  {
   "cell_type": "code",
   "execution_count": 167,
   "metadata": {},
   "outputs": [],
   "source": [
    "  def gs(A,b,Tguess_gs,ɛ):\n",
    "    # make sure the matrix dimensions are the same\n",
    "    [nr,nc]=A.shape\n",
    "    r=np.matmul(A,Tguess_gs)-b\n",
    "    iterations=0\n",
    "    T = np.zeros(nr)\n",
    "    #print (np.linalg.norm(r,2))\n",
    "    while (np.linalg.norm(r,2)>ɛ):\n",
    "        #print(iterations)\n",
    "        #print (np.linalg.norm(r,2))\n",
    "        for i in range (0,nr):\n",
    "            #print (Tguess_gs)\n",
    "            T[i]=Tguess_gs[i]+1/A[i,i]*(b[i]-A[i]@Tguess_gs)\n",
    "            #print(T)\n",
    "            Tguess_gs=T\n",
    "            #print (Tguess_gs)\n",
    "        r=np.matmul(A,T)-b\n",
    "        #print (np.linalg.norm(r,2))\n",
    "        iterations+=1\n",
    "    print(iterations, \" iterations were used to achieve a tolerance of less than ɛ using the Gauss-Seidel method.\")\n",
    "    return T"
   ]
  },
  {
   "cell_type": "code",
   "execution_count": 168,
   "metadata": {},
   "outputs": [
    {
     "name": "stdout",
     "output_type": "stream",
     "text": [
      "375  iterations were used to achieve a tolerance of less than ɛ using the Gauss-Seidel method.\n"
     ]
    },
    {
     "data": {
      "text/plain": [
       "array([500.        , 480.55217106, 462.95203784, 447.02272468,\n",
       "       432.60435998, 419.55244173, 407.73636009, 397.03806191,\n",
       "       387.3508435 , 378.57825959, 370.63313705, 363.43668353,\n",
       "       356.91768179, 351.01176166, 345.66074203, 340.81203624,\n",
       "       336.4181148 , 332.43601997, 328.82692712, 325.55574862,\n",
       "       322.59077589, 319.90335627, 317.46760114, 315.26012246,\n",
       "       313.25979497, 311.44754158, 309.80613977, 308.32004703,\n",
       "       306.97524352, 305.75909026, 304.66020155, 303.6683301 ,\n",
       "       302.77426384, 301.96973322, 301.24732814, 300.60042357,\n",
       "       300.02311313, 299.51014988, 299.05689379, 298.65926525,\n",
       "       298.31370423, 298.01713452, 297.76693287, 297.56090252,\n",
       "       297.39725099, 297.27457182, 297.19183007, 297.1483515 ,\n",
       "       297.14381523, 297.17824991, 297.25203327, 297.36589512,\n",
       "       297.52092383, 297.71857634, 297.96069183, 298.24950922,\n",
       "       298.58768869, 298.97833743, 299.42503992, 299.9318931 ,\n",
       "       300.50354673, 301.14524947, 301.86290111, 302.66311149,\n",
       "       303.55326678, 304.5416038 , 305.63729318, 306.85053214,\n",
       "       308.19264798, 309.67621328, 311.31517398, 313.12499177,\n",
       "       315.12280214, 317.32758972, 319.76038284, 322.44446917,\n",
       "       325.40563463, 328.67242817, 332.27645496, 336.25270103,\n",
       "       340.63989273, 345.48089456, 350.82314955, 356.71916655,\n",
       "       363.22705946, 370.41114389, 378.34259727, 387.10018918,\n",
       "       396.77108934, 407.45176138, 419.24895162, 432.28078284,\n",
       "       446.67796425, 462.58512984, 480.16231891, 499.58661377,\n",
       "       521.05395129, 544.78112675, 571.00801052, 600.        ])"
      ]
     },
     "execution_count": 168,
     "metadata": {},
     "output_type": "execute_result"
    }
   ],
   "source": [
    "Tguess_gs=np.zeros(n) #here the user defines the inputs the intital guess for the Gauss-Seidel method (usually all zero entries)\n",
    "gs(A,b,Tguess_gs,ɛ)"
   ]
  },
  {
   "cell_type": "markdown",
   "metadata": {},
   "source": [
    "#### Section c"
   ]
  },
  {
   "cell_type": "markdown",
   "metadata": {},
   "source": [
    "Plot your numerical solutions along with the analytical solution, and report the number\n",
    "of iterations required for each method to achieve the prescribed error tolerance. Use an\n",
    "initial guess of T_i = 500, i = 1...n."
   ]
  },
  {
   "cell_type": "code",
   "execution_count": 169,
   "metadata": {},
   "outputs": [
    {
     "name": "stdout",
     "output_type": "stream",
     "text": [
      "321  iterations were used to achieve a tolerance of less than ɛ using the Jacobi method.\n",
      "375  iterations were used to achieve a tolerance of less than ɛ using the Gauss-Seidel method.\n"
     ]
    },
    {
     "data": {
      "image/png": "[encoded data removed]",
      "text/plain": [
       "<Figure size 432x288 with 1 Axes>"
      ]
     },
     "metadata": {},
     "output_type": "display_data"
    }
   ],
   "source": [
    "x=np.linspace(0,L,n)\n",
    "Tguess_j=np.full((n,1),500)\n",
    "Tguess_gs=np.full((n,1),500)\n",
    "y_j=jacobi(A,b,Tguess_j,ɛ)\n",
    "y_gs=gs(A,b,Tguess_gs,ɛ)\n",
    "\n",
    "import matplotlib.pyplot as plt\n",
    "plt.xlabel(\"x (meters)\") # set x label\n",
    "plt.ylabel(\"Temperature (Kelvin)\") # set y label\n",
    "plt.plot(x,T(x),\"-r\",label=\"analytical solution\")\n",
    "plt.plot(x,y_j,\"-b\",label=\"Jacobi method\")\n",
    "plt.plot(x,y_gs,\"-g\",label=\"Gauss-Seidel method\")\n",
    "plt.grid(True,which=\"major\") # turn on major grid axes\n",
    "plt.grid(True,which=\"minor\") # turn on minor grid axes\n",
    "plt.legend() # display legend\n",
    "plt.show()\n"
   ]
  },
  {
   "cell_type": "markdown",
   "metadata": {},
   "source": [
    "#### Section d"
   ]
  },
  {
   "cell_type": "markdown",
   "metadata": {},
   "source": [
    "Comment on the adequacy of this choice for $\\varepsilon$. In this case, is it more convenient\n",
    "to choose convergence criteria based on $||A\\vec{x}-\\vec{b}||$ or based on $||T^{k+1}-T^k||$, where k is the iteration count?"
   ]
  },
  {
   "cell_type": "markdown",
   "metadata": {},
   "source": [
    "   This choice for $\\varepsilon$ is a pretty good choice for the tollerance because it causes the Jacobi method and the Gauss-Seidel method to be reltively close to the true value, and to have an extremely similar shape on the graph. If, let's say, $\\varepsilon=2$, which is not much different than 0.5, the graph would look like this:"
   ]
  },
  {
   "cell_type": "code",
   "execution_count": 170,
   "metadata": {},
   "outputs": [
    {
     "name": "stdout",
     "output_type": "stream",
     "text": [
      "197  iterations were used to achieve a tolerance of less than ɛ using the Jacobi method.\n",
      "251  iterations were used to achieve a tolerance of less than ɛ using the Gauss-Seidel method.\n"
     ]
    },
    {
     "data": {
      "image/png": "[encoded data removed]",
      "text/plain": [
       "<Figure size 432x288 with 1 Axes>"
      ]
     },
     "metadata": {},
     "output_type": "display_data"
    }
   ],
   "source": [
    "ɛ=2\n",
    "\n",
    "x=np.linspace(0,L,n)\n",
    "Tguess_j=np.full((n,1),500)\n",
    "Tguess_gs=np.full((n,1),500)\n",
    "y_j=jacobi(A,b,Tguess_j,ɛ)\n",
    "y_gs=gs(A,b,Tguess_gs,ɛ)\n",
    "\n",
    "import matplotlib.pyplot as plt\n",
    "plt.xlabel(\"x (meters)\") # set x label\n",
    "plt.ylabel(\"Temperature (Kelvin)\") # set y label\n",
    "plt.plot(x,T(x),\"-r\",label=\"analytical solution\")\n",
    "plt.plot(x,y_j,\"-b\",label=\"Jacobi method\")\n",
    "plt.plot(x,y_gs,\"-g\",label=\"Gauss-Seidel method\")\n",
    "plt.grid(True,which=\"major\") # turn on major grid axes\n",
    "plt.grid(True,which=\"minor\") # turn on minor grid axes\n",
    "plt.legend() # display legend\n",
    "plt.show()"
   ]
  },
  {
   "cell_type": "markdown",
   "metadata": {},
   "source": [
    "As can easily be seen, the Jacobi method and the Gauss-Seibel method differ significantly from the analytical solution. I conclude that a tolerance of 0.5 is adequate."
   ]
  },
  {
   "cell_type": "markdown",
   "metadata": {},
   "source": [
    "In this case, it more convenient to choose convergence criteria based on $||A\\vec{x}-\\vec{b}||$, rather than on $||T^{k+1}-T^k||$. This is so because if the latter method were to be used as the criteria, the structure of the coding would need to be changed significantly in order to update the current $\\varepsilon$ value."
   ]
  },
  {
   "cell_type": "markdown",
   "metadata": {},
   "source": [
    "An oddity that I have not been able to understand is why, in for my code, the Gauss-Sidel method is using more iterations than the Jacobi method. Despite much debugging, I have been unable to identify the cause of this."
   ]
  },
  {
   "cell_type": "markdown",
   "metadata": {},
   "source": [
    "### Part 2"
   ]
  },
  {
   "cell_type": "markdown",
   "metadata": {},
   "source": [
    "In this part, we will look at how the error varies as we take more iterations with the\n",
    "Jacobi and Gauss-Seidel methods as well as how the number of iterations changes between both\n",
    "algorithms for a given tolerance."
   ]
  },
  {
   "cell_type": "markdown",
   "metadata": {},
   "source": [
    "#### Section a"
   ]
  },
  {
   "cell_type": "markdown",
   "metadata": {},
   "source": [
    "Plot the error norm $||A\\vec{x}-\\vec{b}||_2$ as a function of the number of iterations that you\n",
    "take with the Gauss-Seidel and Jacobi methods, again using $T_i = 500$ as an initial guess for\n",
    "temperature and n = 100 points (i.e. 100 equations). Use a log-log plot and show results over\n",
    "a range from $10-10^3$ iterations. Comment on what you observe."
   ]
  },
  {
   "cell_type": "code",
   "execution_count": 171,
   "metadata": {
    "collapsed": true
   },
   "outputs": [],
   "source": [
    "n=100\n",
    "L=1 #in units of m\n",
    "T_0=500\n",
    "T_L=600\n",
    "T_inf=300\n",
    "h=100 #in units of m^-2"
   ]
  },
  {
   "cell_type": "code",
   "execution_count": 172,
   "metadata": {
    "collapsed": true
   },
   "outputs": [],
   "source": [
    "d=np.ones(n)\n",
    "Δx=L/(n-1)\n",
    "for i in range(1,n-1):\n",
    "    d[i]=-(2+h*(Δx)**2)\n",
    "u=np.ones(n-1)\n",
    "u[0]=0\n",
    "l=np.ones(n-1)\n",
    "l[n-2]=0\n",
    "A=np.diag(l,-1)+np.diag(d,0)+np.diag(u,1)"
   ]
  },
  {
   "cell_type": "code",
   "execution_count": 173,
   "metadata": {
    "collapsed": true
   },
   "outputs": [],
   "source": [
    "b=np.ones(n)\n",
    "b[0]=T_0\n",
    "b[n-1]=T_L\n",
    "for i in range(1,n-1):\n",
    "    b[i]=-(h*(Δx)**2*T_inf)"
   ]
  },
  {
   "cell_type": "code",
   "execution_count": 176,
   "metadata": {
    "collapsed": true
   },
   "outputs": [],
   "source": [
    "import array\n",
    "def jacobi_new(A,b,Tguess_jnew):\n",
    "    [nr,nc]=A.shape\n",
    "    r=np.matmul(A,Tguess_jnew)-b\n",
    "    iterations=10 #here the user can set the number of iterations for the beginning of the program\n",
    "    end_value=10**3 #here the user can set the number of iterations for the end of the program\n",
    "    I=[]\n",
    "    N=[]\n",
    "    T = np.zeros(nr)\n",
    "    for i in range (iterations,end_value+1):\n",
    "        for i in range (0,nr):\n",
    "            T[i]=Tguess_jnew[i]+1/A[i,i]*(b[i]-A[i]@Tguess_jnew)\n",
    "        r=np.matmul(A,T)-b\n",
    "        Tguess_jnew=T\n",
    "        k=np.linalg.norm(r,2)\n",
    "        I.append(iterations)\n",
    "        #print(I)\n",
    "        iterations+=1\n",
    "        N.append(k)\n",
    "        #print(N)\n",
    "    return I,N"
   ]
  },
  {
   "cell_type": "code",
   "execution_count": 177,
   "metadata": {},
   "outputs": [],
   "source": [
    "Tguess_jnew=np.full((n,1),500)\n",
    "x,y=jacobi_new(A,b,Tguess_jnew)"
   ]
  },
  {
   "cell_type": "code",
   "execution_count": 178,
   "metadata": {},
   "outputs": [],
   "source": [
    "def gs_new(A,b,Tguess_gsnew):\n",
    "    [nr,nc]=A.shape\n",
    "    r=np.matmul(A,Tguess_gsnew)-b\n",
    "    iterations=10 #here the user can set the number of iterations for the beginning of the program\n",
    "    end_value=10**3 #here the user can set the number of iterations for the end of the program\n",
    "    I2=[]\n",
    "    N2=[]\n",
    "    T = np.zeros(nr)\n",
    "    for i in range (iterations,end_value+1):\n",
    "        for i in range (0,nr):\n",
    "            T[i]=Tguess_gs[i]+1/A[i,i]*(b[i]-A[i]@Tguess_gsnew)\n",
    "            Tguess_gsnew=T\n",
    "        r=np.matmul(A,T)-b\n",
    "        Tguess_gsnew=T\n",
    "        k=np.linalg.norm(r,2)\n",
    "        I2.append(iterations)\n",
    "        iterations+=1\n",
    "        N2.append(k)\n",
    "    return I2,N2"
   ]
  },
  {
   "cell_type": "code",
   "execution_count": 179,
   "metadata": {},
   "outputs": [],
   "source": [
    "Tguess_gsnew=np.full((n,1),500)\n",
    "x2,y2=gs_new(A,b,Tguess_gsnew)"
   ]
  },
  {
   "cell_type": "code",
   "execution_count": 180,
   "metadata": {},
   "outputs": [
    {
     "data": {
      "image/png": "[encoded data removed]",
      "text/plain": [
       "<Figure size 432x288 with 1 Axes>"
      ]
     },
     "metadata": {},
     "output_type": "display_data"
    }
   ],
   "source": [
    "import matplotlib.pyplot as plt\n",
    "plt.xlabel(\"# of iterations\") # set x label\n",
    "plt.ylabel(\"error norm\") # set y label\n",
    "plt.loglog(x,y,\"-b\",label=\"Jacobi method\")\n",
    "plt.loglog(x2,y2,\"-g\",label=\"Gauss-Seidel method\")\n",
    "plt.grid(True,which=\"major\") # turn on major grid axes\n",
    "plt.grid(True,which=\"minor\") # turn on minor grid axes\n",
    "plt.legend() # display legend\n",
    "plt.show()"
   ]
  },
  {
   "cell_type": "markdown",
   "metadata": {},
   "source": [
    "Well, as the graph indicates, there is a problem with my code for the Gauss-Seidel method. Aside from that, the graph clearly indicates that as the number of iterations increases, the error norm decreases quite quickly for the Jacobi method. I am confident that if I had correctly programmed the Gauss-Seidel method, the norm would have decreased much faster than it did for the Jacobi method."
   ]
  },
  {
   "cell_type": "markdown",
   "metadata": {},
   "source": [
    "#### Section b"
   ]
  },
  {
   "cell_type": "markdown",
   "metadata": {},
   "source": [
    "Plot the number of iterations vs tolerance that you take with the Gauss-Siedel and\n",
    "Jacobi methods, again using Ti = 500 as an initial guess for temperature and n = 100 points\n",
    "(i.e. 100 equations). Use a log-log plot and show results over a range from $10^{-3}-0.1$ error\n",
    "tolerance. Comment on what you observe."
   ]
  },
  {
   "cell_type": "code",
   "execution_count": null,
   "metadata": {
    "collapsed": true
   },
   "outputs": [],
   "source": []
  }
 ],
 "metadata": {
  "kernelspec": {
   "display_name": "Python 3",
   "language": "python",
   "name": "python3"
  },
  "language_info": {
   "codemirror_mode": {
    "name": "ipython",
    "version": 3
   },
   "file_extension": ".py",
   "mimetype": "text/x-python",
   "name": "python",
   "nbconvert_exporter": "python",
   "pygments_lexer": "ipython3",
   "version": "3.5.2"
  }
 },
 "nbformat": 4,
 "nbformat_minor": 2
}

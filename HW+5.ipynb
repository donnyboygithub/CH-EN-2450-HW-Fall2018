{
 "cells": [
  {
   "cell_type": "markdown",
   "metadata": {},
   "source": [
    "# Donovan Feist; u0924825; CH EN 2450"
   ]
  },
  {
   "cell_type": "markdown",
   "metadata": {},
   "source": [
    "# Homework 5: Interpolation"
   ]
  },
  {
   "cell_type": "markdown",
   "metadata": {
    "collapsed": true
   },
   "source": [
    "## Problem 1"
   ]
  },
  {
   "cell_type": "markdown",
   "metadata": {},
   "source": [
    "Consider the data in the class notes that showed the viscosity of air as a function of temperature, μ(T), at atmospheric pressure."
   ]
  },
  {
   "cell_type": "markdown",
   "metadata": {},
   "source": [
    "### Part 1"
   ]
  },
  {
   "cell_type": "markdown",
   "metadata": {},
   "source": [
    "Using linear interpolation, estimate μ at 835 K (by hand)."
   ]
  },
  {
   "cell_type": "markdown",
   "metadata": {
    "collapsed": true
   },
   "source": [
    "To interpolate the value of $\\mu$ at 835 K, the slope of the line between the two points on either side of 835 K must be determined."
   ]
  },
  {
   "cell_type": "code",
   "execution_count": 1,
   "metadata": {},
   "outputs": [
    {
     "name": "stdout",
     "output_type": "stream",
     "text": [
      "The slope between the points at 800 K and 850 K has a slope of:  2.9000000000000028e-08 .\n"
     ]
    }
   ],
   "source": [
    "slope=(3.843*10**-5-3.698*10**-5)/(850-800)\n",
    "print(\"The slope between the points at 800 K and 850 K has a slope of: \", slope,\".\")"
   ]
  },
  {
   "cell_type": "markdown",
   "metadata": {},
   "source": [
    "This must then be plugged into the equation: $y=slope \\times (x-x_1) + y_1$, where $x$ is the point being evaluated (835 K), $x_1$ is the the point on the left of the point in question (800 K), and $y_1$ is the value that corresponds to $x_1$ ($3.698 \\times 10^{-5}$)."
   ]
  },
  {
   "cell_type": "code",
   "execution_count": 2,
   "metadata": {},
   "outputs": [
    {
     "name": "stdout",
     "output_type": "stream",
     "text": [
      "The estimated value of μ at 835 K, using linear interpolation, is:  3.7995000000000005e-05 N.s/m^2.\n"
     ]
    }
   ],
   "source": [
    "y=slope*(835-800)+3.698*10**-5\n",
    "print (\"The estimated value of μ at 835 K, using linear interpolation, is: \", y, \"N.s/m^2.\")"
   ]
  },
  {
   "cell_type": "markdown",
   "metadata": {},
   "source": [
    "### Part 2"
   ]
  },
  {
   "cell_type": "markdown",
   "metadata": {},
   "source": [
    "Show the system of equations that you must solve to obtain the polynomial coefficients for\n",
    "a quadratic interpolant suitable for estimating $\\mu(835)$. Then solve that system (no need to show\n",
    "that work - show the solution only) and show the approximation for $\\mu(835)$ using a quadratic\n",
    "polynomial."
   ]
  },
  {
   "cell_type": "markdown",
   "metadata": {},
   "source": [
    "The system of equations used to obtain the polynomial coefficients would be the following equations:"
   ]
  },
  {
   "cell_type": "markdown",
   "metadata": {},
   "source": [
    "$y_1=a_0+a_1\\times x_1+a_2\\times x_1^2$<br>$y_2=a_0+a_1\\times x_2+a_2\\times x_2^2$<br>$y_3=a_0+a_1\\times x_3+a_2\\times x_3^2$"
   ]
  },
  {
   "cell_type": "markdown",
   "metadata": {},
   "source": [
    "with $x_1=800 K$, $x_2=850 K$, and $x_3=900 K$; and $y_1$, $y_2$, and $y_3$ are the $\\mu$ values that correspond to $x_1$, $x_1$, and $x_1$."
   ]
  },
  {
   "cell_type": "code",
   "execution_count": 5,
   "metadata": {},
   "outputs": [
    {
     "name": "stdout",
     "output_type": "stream",
     "text": [
      "The coefficients used for quadratic interpolation are a_0= 4.25999999999938e-06 , a_1= 5.2100000000001486e-08 and a_2= -1.4000000000000882e-11 , respectively.\n"
     ]
    }
   ],
   "source": [
    "import numpy as np\n",
    "matrix=np.array([[1, 800, 800**2],[1, 850, 850**2],[1, 900, 900**2]])\n",
    "\n",
    "rhs=np.array([3.698e-05, 3.843e-05, 3.981e-05])\n",
    "\n",
    "coefficients=np.linalg.solve(matrix, rhs)\n",
    "print(\"The coefficients used for quadratic interpolation are a_0=\", coefficients[0], \", a_1=\", coefficients[1], \"and a_2=\", coefficients[2],  \", respectively.\")"
   ]
  },
  {
   "cell_type": "markdown",
   "metadata": {},
   "source": [
    "Using a quadratic polynomial with the above mentioned polynomial coefficients, the apporoximate value of $\\mu(835)=$"
   ]
  },
  {
   "cell_type": "code",
   "execution_count": 6,
   "metadata": {
    "scrolled": true
   },
   "outputs": [
    {
     "name": "stdout",
     "output_type": "stream",
     "text": [
      "3.8002350000000004e-05 N.s/m^2\n"
     ]
    }
   ],
   "source": [
    "y=coefficients[0]*1+coefficients[1]*835+coefficients[2]*835**2\n",
    "print(y, \"N.s/m^2\")"
   ]
  },
  {
   "cell_type": "markdown",
   "metadata": {},
   "source": [
    "### Part 3"
   ]
  },
  {
   "cell_type": "markdown",
   "metadata": {},
   "source": [
    "Create a table summarizing the estimate for $\\mu(835)$ using: linear interpolation, quadratic\n",
    "interpolation, cubic splines, and a polynomial that goes through all of the data points. Be sure to\n",
    "submit the code that generates these results."
   ]
  },
  {
   "cell_type": "markdown",
   "metadata": {},
   "source": [
    "The code used to obtain the approximate value of $\\mu(835)$ using linear interpolation and quadratic interpolation is given above. The code used to obtain the approximate value of $\\mu(835)$ using cubic splines and a polynomial that goes through all of the data points will be given below."
   ]
  },
  {
   "cell_type": "code",
   "execution_count": 7,
   "metadata": {},
   "outputs": [
    {
     "name": "stdout",
     "output_type": "stream",
     "text": [
      "The estimated value of μ at 835 K, using cubic spline interpolation, is:  3.8002442551963886e-05 N.s/m^2.\n"
     ]
    }
   ],
   "source": [
    "xi=np.array([ 100, 150, 200, 250, 300, 350, 400, 450, 500, 550, 600, 650, 700, 750, 800,\n",
    "850, 900, 950, 1000])\n",
    "yi =np.array([7.110e-06, 1.034e-05, 1.325e-05, 1.596e-05, 1.846e-05, 2.082e-05, 2.301e-05,\n",
    "2.507e-05, 2.701e-05, 2.884e-05, 3.058e-05, 3.225e-05, 3.388e-05, 3.546e-05,\n",
    "3.698e-05, 3.843e-05, 3.981e-05, 4.113e-05, 4.244e-5])\n",
    "\n",
    "from scipy.interpolate import CubicSpline\n",
    "cs = CubicSpline(xi,yi)\n",
    "xe=835\n",
    "ye = cs(xe)\n",
    "print(\"The estimated value of μ at 835 K, using cubic spline interpolation, is: \", ye, \"N.s/m^2.\")\n"
   ]
  },
  {
   "cell_type": "code",
   "execution_count": 8,
   "metadata": {},
   "outputs": [
    {
     "name": "stdout",
     "output_type": "stream",
     "text": [
      "The estimated value of μ at 835 K, using a polynomial that goes through all of the data points, is:  3.800618026272829e-05 N.s/m^2.\n"
     ]
    },
    {
     "name": "stderr",
     "output_type": "stream",
     "text": [
      "/usr/local/lib/python3.5/dist-packages/ipykernel_launcher.py:3: RankWarning: Polyfit may be poorly conditioned\n",
      "  This is separate from the ipykernel package so we can avoid doing imports until\n"
     ]
    }
   ],
   "source": [
    "from numpy import polyfit, polyval\n",
    "n=len(xi)-1\n",
    "p = polyfit(xi,yi,n)\n",
    "xe=835\n",
    "ye = polyval(p,xe)\n",
    "print(\"The estimated value of μ at 835 K, using a polynomial that goes through all of the data points, is: \", ye, \"N.s/m^2.\")"
   ]
  },
  {
   "cell_type": "markdown",
   "metadata": {
    "collapsed": true
   },
   "source": [
    "| method                                | approximate value of μ ($value \\times10^{-5}$)(N.s/m^2) |\n",
    "|---------------------------------------|-------------------------------------------|\n",
    "| linear interpolation                  | 3.7995000000000005                        |\n",
    "| quadratic interpolation               | 3.8002350000000004                        |\n",
    "| cubic spline interpolation            | 3.8002442551963886                        |\n",
    "| polynomial (all points) interpolation | 3.800618026272829                         |"
   ]
  },
  {
   "cell_type": "markdown",
   "metadata": {},
   "source": [
    "The values in the table indicate that all four methods yield the same answer to within three significant digits, but differ from each other when four or more significant digits are included."
   ]
  },
  {
   "cell_type": "markdown",
   "metadata": {},
   "source": [
    "## Problem 2"
   ]
  },
  {
   "cell_type": "markdown",
   "metadata": {},
   "source": [
    "The atmospheric temperature (in F) as a function of time of day (in hrs), for a typical day in August is\n",
    "given by:"
   ]
  },
  {
   "cell_type": "code",
   "execution_count": 9,
   "metadata": {},
   "outputs": [],
   "source": [
    "t=np.array([0,1,2,3,4,5,6,7,8,9,10,11,12,13,14,15,16,17,18,19,20,21,22,23])\n",
    "Temperature=np.array([75,74,73,72,71,70,69,69,72,75,79,82,86,88,89,90,91,91,91,90,87,82,80,77])"
   ]
  },
  {
   "cell_type": "markdown",
   "metadata": {},
   "source": [
    "### Part 1"
   ]
  },
  {
   "cell_type": "markdown",
   "metadata": {},
   "source": [
    "Plot the Temperature as a function of time."
   ]
  },
  {
   "cell_type": "code",
   "execution_count": null,
   "metadata": {},
   "outputs": [
    {
     "data": {
      "text/plain": [
       "[<matplotlib.lines.Line2D at 0x7f6b0c8c9ac8>,\n",
       " <matplotlib.lines.Line2D at 0x7f6aeb08af60>,\n",
       " <matplotlib.lines.Line2D at 0x7f6aeb0900f0>,\n",
       " <matplotlib.lines.Line2D at 0x7f6aeb090240>,\n",
       " <matplotlib.lines.Line2D at 0x7f6aeb090390>,\n",
       " <matplotlib.lines.Line2D at 0x7f6aeb0904e0>,\n",
       " <matplotlib.lines.Line2D at 0x7f6aeb090630>,\n",
       " <matplotlib.lines.Line2D at 0x7f6aeb090780>,\n",
       " <matplotlib.lines.Line2D at 0x7f6aeb0908d0>,\n",
       " <matplotlib.lines.Line2D at 0x7f6aeb090a20>,\n",
       " <matplotlib.lines.Line2D at 0x7f6aeb090b70>,\n",
       " <matplotlib.lines.Line2D at 0x7f6aeb090cc0>,\n",
       " <matplotlib.lines.Line2D at 0x7f6aeb090e10>,\n",
       " <matplotlib.lines.Line2D at 0x7f6aeb090f60>,\n",
       " <matplotlib.lines.Line2D at 0x7f6aeb0930f0>,\n",
       " <matplotlib.lines.Line2D at 0x7f6aeb093240>,\n",
       " <matplotlib.lines.Line2D at 0x7f6aeb093390>,\n",
       " <matplotlib.lines.Line2D at 0x7f6aeb0934e0>,\n",
       " <matplotlib.lines.Line2D at 0x7f6aeb093630>,\n",
       " <matplotlib.lines.Line2D at 0x7f6aeb093780>,\n",
       " <matplotlib.lines.Line2D at 0x7f6aeb0938d0>,\n",
       " <matplotlib.lines.Line2D at 0x7f6aeb093a20>,\n",
       " <matplotlib.lines.Line2D at 0x7f6aeb093b70>,\n",
       " <matplotlib.lines.Line2D at 0x7f6aeb093cc0>]"
      ]
     },
     "execution_count": 10,
     "metadata": {},
     "output_type": "execute_result"
    }
   ],
   "source": [
    "%matplotlib inline\n",
    "import matplotlib.pyplot as plt\n",
    "plt.xlabel(\"time (hrs)\") # set x label\n",
    "plt.ylabel(\"Temperature (degrees F)\") # set y label\n",
    "plt.plot(t,Temperature,\"r-\",label=\"Temperature\")"
   ]
  },
  {
   "cell_type": "code",
   "execution_count": null,
   "metadata": {
    "collapsed": true
   },
   "outputs": [],
   "source": []
  }
 ],
 "metadata": {
  "kernelspec": {
   "display_name": "Python 3",
   "language": "python",
   "name": "python3"
  },
  "language_info": {
   "codemirror_mode": {
    "name": "ipython",
    "version": 3
   },
   "file_extension": ".py",
   "mimetype": "text/x-python",
   "name": "python",
   "nbconvert_exporter": "python",
   "pygments_lexer": "ipython3",
   "version": "3.5.2"
  }
 },
 "nbformat": 4,
 "nbformat_minor": 2
}

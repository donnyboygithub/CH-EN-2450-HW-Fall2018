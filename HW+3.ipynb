{
 "cells": [
  {
   "cell_type": "markdown",
   "metadata": {},
   "source": [
    "# Donovan Feist, u0924825, CH EN 2450\n",
    "# Homework 3"
   ]
  },
  {
   "cell_type": "markdown",
   "metadata": {},
   "source": [
    "## Problem 1"
   ]
  },
  {
   "cell_type": "markdown",
   "metadata": {},
   "source": [
    "### Part 1"
   ]
  },
  {
   "cell_type": "markdown",
   "metadata": {},
   "source": [
    "### Defining x"
   ]
  },
  {
   "cell_type": "markdown",
   "metadata": {
    "collapsed": true
   },
   "source": [
    "I will refer to the inveral betweel $0$ and $L$ as a rod of length $L$. Becuase we are taking $6$ discreet measurements along the rod--one a $x=0$, one at $x=L$, and $4$ times inbetween--the rod is split into $5$ subintervals."
   ]
  },
  {
   "cell_type": "markdown",
   "metadata": {},
   "source": [
    "Because the \"n\" is the number of measurements taken, the number of subintervals is n-1. This means that: $ \\Delta x = \\frac{L}{n-1}$. "
   ]
  },
  {
   "cell_type": "markdown",
   "metadata": {},
   "source": [
    "In this problem, $x_i$ ranges from $i=0$ to $i=5$, starting at $x_0$. (This is clearly displayed in the image)"
   ]
  },
  {
   "cell_type": "markdown",
   "metadata": {},
   "source": [
    "$x_0=0$"
   ]
  },
  {
   "cell_type": "markdown",
   "metadata": {},
   "source": [
    "$x_1 = x_0+Δx$"
   ]
  },
  {
   "cell_type": "markdown",
   "metadata": {},
   "source": [
    "$x_2 = x_1 + Δx = 2Δx$"
   ]
  },
  {
   "cell_type": "markdown",
   "metadata": {},
   "source": [
    "$x_3 = x_2 + Δx = 3Δx$"
   ]
  },
  {
   "cell_type": "markdown",
   "metadata": {},
   "source": [
    "$x_4 = x_3 + \\Delta x = 4Δx$"
   ]
  },
  {
   "cell_type": "markdown",
   "metadata": {},
   "source": [
    "$x_5 = x_4 + Δx = 5Δx = L$"
   ]
  },
  {
   "cell_type": "markdown",
   "metadata": {},
   "source": [
    "As can be seen from the equations above, the index $i$ in $x_i$ determines how many times $\\Delta x$ is added to $x_0$. This means that: $x_i=i\\Delta x=\\frac{iL}{n-1}$ as $i$ ranges from $0$ to $5$."
   ]
  },
  {
   "cell_type": "code",
   "execution_count": 66,
   "metadata": {
    "scrolled": true
   },
   "outputs": [
    {
     "name": "stdout",
     "output_type": "stream",
     "text": [
      "[0.         0.33333333 0.66666667 1.        ]\n"
     ]
    }
   ],
   "source": [
    "n=4 #here the user can insert how many discrete measurements will be taken; this includes the endpoints\n",
    "import numpy as np\n",
    "L=1 #here the user can define the length of the rod (in meters) being examined\n",
    "x = np.linspace(0,L,n)\n",
    "print(x)"
   ]
  },
  {
   "cell_type": "markdown",
   "metadata": {},
   "source": [
    "### Part 2"
   ]
  },
  {
   "cell_type": "markdown",
   "metadata": {},
   "source": [
    "#### System of Equations"
   ]
  },
  {
   "cell_type": "markdown",
   "metadata": {},
   "source": [
    "The system of eqautions for a rod with $n=4$ (meaning that the rod has $n-1=4-1=3$ subintervals) is set up as follows:"
   ]
  },
  {
   "cell_type": "markdown",
   "metadata": {
    "collapsed": true
   },
   "source": [
    "$x_0$:  $T_0=T(x = 0)$"
   ]
  },
  {
   "cell_type": "markdown",
   "metadata": {},
   "source": [
    "$x_1$: $T_0−2T_1+T_2=−Δx^2×\\frac{S_1}{λ}$"
   ]
  },
  {
   "cell_type": "markdown",
   "metadata": {},
   "source": [
    "$x_2$: $T_1−2T_2+T_3=−Δx^2×\\frac{S_2}{λ}$"
   ]
  },
  {
   "cell_type": "markdown",
   "metadata": {},
   "source": [
    "$x_3$: $T_3=T_L$"
   ]
  },
  {
   "cell_type": "markdown",
   "metadata": {},
   "source": [
    "#### Matrix for System of Equations"
   ]
  },
  {
   "cell_type": "code",
   "execution_count": 67,
   "metadata": {},
   "outputs": [
    {
     "name": "stdout",
     "output_type": "stream",
     "text": [
      "[[ 1.  0.  0.  0.]\n",
      " [ 1. -2.  1.  0.]\n",
      " [ 0.  1. -2.  1.]\n",
      " [ 0.  0.  0.  1.]]\n"
     ]
    }
   ],
   "source": [
    "d=-2*np.ones(n)\n",
    "d[0]=1.0\n",
    "d[n-1]=1.0\n",
    "l=np.ones(n-1)\n",
    "l[n-2]=0.0\n",
    "u=np.ones(n-1)\n",
    "u[0]=0.0\n",
    "A=np.diag(l,-1)+np.diag(d,0)+np.diag(u,1)\n",
    "print(A)"
   ]
  },
  {
   "cell_type": "markdown",
   "metadata": {},
   "source": [
    "#### Defining the Right-Hand-Side for the Source Term"
   ]
  },
  {
   "cell_type": "code",
   "execution_count": 68,
   "metadata": {
    "collapsed": true
   },
   "outputs": [],
   "source": [
    "#the various values for the source term array can be changed below\n",
    "T0=300 #temperature at x=0 (in Kelvin)\n",
    "TL=310 #temperature at x=L (in Kelvin)\n",
    "λ=10**-5 #value of lambda (in Watts/(meter*Kelvin))\n",
    "a=2*L/3 #value of a (in meters)\n",
    "σ=0.1 #value of sigma (in meters)"
   ]
  },
  {
   "cell_type": "markdown",
   "metadata": {},
   "source": [
    "It is given in the problem that the source term is: $S(x)=exp(-(\\frac{x-a}{\\sigma})^2)$."
   ]
  },
  {
   "cell_type": "code",
   "execution_count": 69,
   "metadata": {},
   "outputs": [
    {
     "name": "stdout",
     "output_type": "stream",
     "text": [
      "[0.         0.33333333 0.66666667 1.        ]\n",
      "[4.98910939e-20 1.49453385e-05 1.00000000e+00 1.49453385e-05]\n"
     ]
    }
   ],
   "source": [
    "def source(x):\n",
    "    return np.exp(-((x-a)/σ)**2)\n",
    "print(x)\n",
    "print(source(x))"
   ]
  },
  {
   "cell_type": "code",
   "execution_count": 70,
   "metadata": {},
   "outputs": [
    {
     "name": "stdout",
     "output_type": "stream",
     "text": [
      "[-5.54345488e-16 -1.66059317e-01 -1.11111111e+04 -1.66059317e-01]\n",
      "[ 3.00000000e+02 -1.66059317e-01 -1.11111111e+04  3.10000000e+02]\n"
     ]
    }
   ],
   "source": [
    "Δx=L/(n-1)\n",
    "b=-Δx*Δx*source(x)/λ\n",
    "print(b)\n",
    "b[0]=T0\n",
    "b[n-1]=TL\n",
    "print(b)"
   ]
  },
  {
   "cell_type": "markdown",
   "metadata": {},
   "source": [
    "#### Solving for Temperature"
   ]
  },
  {
   "cell_type": "code",
   "execution_count": 71,
   "metadata": {},
   "outputs": [
    {
     "name": "stdout",
     "output_type": "stream",
     "text": [
      "[ 300.         4007.14774325 7714.12942718  310.        ]\n"
     ]
    }
   ],
   "source": [
    "T=np.ones(n)\n",
    "def thomas(x):\n",
    "    for i in range(1,n):\n",
    "        d[i]=d[i]-u[i-1]*l[i-1]/d[i-1]\n",
    "        b[i]=b[i]-b[i-1]*l[i-1]/d[i-1]\n",
    "    T[n-1]=b[n-1]/d[n-1]\n",
    "    for i in range(n-2,-1,-1):\n",
    "        T[i]=(b[i]-u[i]*T[i+1])/d[i]\n",
    "\n",
    "thomas(x)\n",
    "print(T)"
   ]
  },
  {
   "cell_type": "markdown",
   "metadata": {},
   "source": [
    "The temperatures at $x_0$, $x_1$, $x_2$, and $x_3$ are therefore:"
   ]
  },
  {
   "cell_type": "code",
   "execution_count": 72,
   "metadata": {},
   "outputs": [
    {
     "name": "stdout",
     "output_type": "stream",
     "text": [
      "300.0 ,  4007.147743248331 ,  7714.129427179721 , and  310.0 , respectively.\n"
     ]
    }
   ],
   "source": [
    "print(T[0],\", \", T[1],\", \", T[2],\", and \", T[3], \", respectively.\")"
   ]
  },
  {
   "cell_type": "markdown",
   "metadata": {},
   "source": [
    "# Problem 2"
   ]
  },
  {
   "cell_type": "markdown",
   "metadata": {},
   "source": [
    "### Part 1"
   ]
  },
  {
   "cell_type": "markdown",
   "metadata": {},
   "source": [
    "#### Creating the list \"n\" which contains the values for the number of equations used in each iteration"
   ]
  },
  {
   "cell_type": "code",
   "execution_count": 73,
   "metadata": {
    "collapsed": true
   },
   "outputs": [],
   "source": [
    "n =[10,20,40,100,1000,2000,3000] # here the user can edit the value of the the # of eqations, and can add more values into the list too\n",
    "length_n=len(n)\n",
    "import numpy as np"
   ]
  },
  {
   "cell_type": "markdown",
   "metadata": {},
   "source": [
    "#### Creating the Thomas algorithm"
   ]
  },
  {
   "cell_type": "code",
   "execution_count": 74,
   "metadata": {},
   "outputs": [],
   "source": [
    "#the various values for the source term array can be changed below\n",
    "L=1 #here the user can define the length of the rod (in meters) being examined\n",
    "T0=300 #temperature at x=0 (in Kelvin)\n",
    "TL=310 #temperature at x=L (in Kelvin)\n",
    "λ=10**-5 #value of lambda (in Watts/(meter*Kelvin))\n",
    "a=2*L/3 #value of a (in meters)\n",
    "σ=0.1 #value of sigma (in meters)\n",
    "\n",
    "def thomas(x):\n",
    "    for i in range(0,length_n,1):\n",
    "        \n",
    "        #creating the grid that the thomas algorithm will evaluate\n",
    "        x = np.linspace(0,L,n[i])\n",
    "        \n",
    "        #creating the tridiagonal matrix\n",
    "        d=-2*np.ones(n[i])\n",
    "        d[0]=1.0\n",
    "        d[n[i]-1]=1.0\n",
    "        l=np.ones(n[i]-1)\n",
    "        l[n[i]-2]=0.0\n",
    "        u=np.ones(n[i]-1)\n",
    "        u[0]=0.0\n",
    "        A=np.diag(l,-1)+np.diag(d,0)+np.diag(u,1)\n",
    "        \n",
    "        #defining the source term\n",
    "        def source(x):\n",
    "            return np.exp(-((x-a)/σ)**2)\n",
    "        \n",
    "        #creating the right hand side (called b)\n",
    "        Δx=L/(n[i]-1)\n",
    "        b=-Δx*Δx*source(x)/λ\n",
    "        b[0]=T0\n",
    "        b[n[i]-1]=TL\n",
    "        \n",
    "        #changing the terms of the main diagonal and the right hand side\n",
    "        for j in range(1,n[i]):\n",
    "            d[j]=d[j]-u[j-1]*l[j-1]/d[j-1]\n",
    "            b[j]=b[j]-b[j-1]*l[j-1]/d[j-1]\n",
    "        \n",
    "        #creating and calculating the vector T, which is the solution for the temperatures at the various grid points\n",
    "        T=np.ones(n[i])\n",
    "        T[n[i]-1]=b[n[i]-1]/d[n[i]-1]\n",
    "        for j in range(n[i]-2,-1,-1):\n",
    "            T[j]=(b[j]-u[j]*T[j+1])/d[j]"
   ]
  },
  {
   "cell_type": "markdown",
   "metadata": {},
   "source": [
    "#### Calculating the time used"
   ]
  },
  {
   "cell_type": "code",
   "execution_count": 75,
   "metadata": {},
   "outputs": [
    {
     "name": "stdout",
     "output_type": "stream",
     "text": [
      "[0.17761135 0.1729784  0.16977072 0.16955352 0.16984987 0.16954708\n",
      " 0.16968203]\n"
     ]
    }
   ],
   "source": [
    "time_vector=np.ones(length_n)\n",
    "for k in range (0,length_n):\n",
    "    import time\n",
    "    tic1 = time.time()\n",
    "    thomas(x)\n",
    "    toc1 = time.time()\n",
    "    ts1 = toc1 - tic1 \n",
    "    time_vector[k]=ts1\n",
    "print(time_vector)\n",
    "    "
   ]
  },
  {
   "cell_type": "markdown",
   "metadata": {},
   "source": [
    "#### Plotting the time used vs the number of equations, using the thomas algorithm"
   ]
  },
  {
   "cell_type": "code",
   "execution_count": 76,
   "metadata": {},
   "outputs": [
    {
     "data": {
      "image/png": "[encoded data removed]",
      "text/plain": [
       "<Figure size 432x288 with 1 Axes>"
      ]
     },
     "metadata": {},
     "output_type": "display_data"
    }
   ],
   "source": [
    "%matplotlib inline\n",
    "import matplotlib.pyplot as plt\n",
    "plt.xlabel(\"# of equations\") # set x label\n",
    "plt.ylabel(\"time to solution (s)\") # set y label\n",
    "plt.loglog(n,time_vector,\"r-\",label=\"Thomas\")\n",
    "plt.legend() # display legend\n",
    "plt.grid(True,which=\"major\") # turn on major grid axes\n",
    "plt.grid(True,which=\"minor\") # turn on minor grid axes"
   ]
  },
  {
   "cell_type": "markdown",
   "metadata": {},
   "source": [
    "### Part 2"
   ]
  },
  {
   "cell_type": "markdown",
   "metadata": {},
   "source": [
    "#### Solve using Python's built in solve command"
   ]
  },
  {
   "cell_type": "code",
   "execution_count": 77,
   "metadata": {},
   "outputs": [],
   "source": [
    "def Pythons_built_in_solve_command(x):\n",
    "    for i in range(0,length_n,1):\n",
    "        \n",
    "        #creating the grid that the thomas algorithm will evaluate\n",
    "        x = np.linspace(0,L,n[i])\n",
    "        \n",
    "        #creating the tridiagonal matrix\n",
    "        d=-2*np.ones(n[i])\n",
    "        d[0]=1.0\n",
    "        d[n[i]-1]=1.0\n",
    "        l=np.ones(n[i]-1)\n",
    "        l[n[i]-2]=0.0\n",
    "        u=np.ones(n[i]-1)\n",
    "        u[0]=0.0\n",
    "        A=np.diag(l,-1)+np.diag(d,0)+np.diag(u,1)\n",
    "        \n",
    "        #defining the source term\n",
    "        def source(x):\n",
    "            return np.exp(-((x-a)/σ)**2)\n",
    "        \n",
    "        #creating the right hand side (called b)\n",
    "        Δx=L/(n[i]-1)\n",
    "        b=-Δx*Δx*source(x)/λ\n",
    "        b[0]=T0\n",
    "        b[n[i]-1]=TL\n",
    "        \n",
    "        r=np.linalg.solve(A,b)"
   ]
  },
  {
   "cell_type": "markdown",
   "metadata": {},
   "source": [
    "#### Calculating the time used for Python's built in solve command"
   ]
  },
  {
   "cell_type": "code",
   "execution_count": null,
   "metadata": {},
   "outputs": [],
   "source": [
    "time_vector2=np.ones(length_n)\n",
    "for k in range (0,length_n):\n",
    "    import time\n",
    "    tic2 = time.time()\n",
    "    Pythons_built_in_solve_command(x)\n",
    "    toc2 = time.time()\n",
    "    ts2 = toc2 - tic2 \n",
    "    time_vector2[k]=ts2"
   ]
  },
  {
   "cell_type": "markdown",
   "metadata": {},
   "source": [
    "#### Plotting the time used vs the number of equations, using Python's built in solve command"
   ]
  },
  {
   "cell_type": "code",
   "execution_count": 59,
   "metadata": {},
   "outputs": [
    {
     "data": {
      "image/png": "[encoded data removed]",
      "text/plain": [
       "<Figure size 432x288 with 1 Axes>"
      ]
     },
     "metadata": {},
     "output_type": "display_data"
    }
   ],
   "source": [
    "%matplotlib inline\n",
    "import matplotlib.pyplot as plt\n",
    "plt.xlabel(\"# of equations\") # set x label\n",
    "plt.ylabel(\"time to solution (s)\") # set y label\n",
    "plt.loglog(n,time_vector2,\"b-\",label=\"Pythons Built in solve command\")\n",
    "plt.legend() # display legend\n",
    "plt.grid(True,which=\"major\") # turn on major grid axes\n",
    "plt.grid(True,which=\"minor\") # turn on minor grid axes"
   ]
  },
  {
   "cell_type": "markdown",
   "metadata": {},
   "source": [
    "### Part 3"
   ]
  },
  {
   "cell_type": "markdown",
   "metadata": {
    "collapsed": true
   },
   "source": [
    "#### Solve using Ainv"
   ]
  },
  {
   "cell_type": "code",
   "execution_count": 60,
   "metadata": {},
   "outputs": [],
   "source": [
    "def Ainv(x):\n",
    "    for i in range(0,length_n,1):\n",
    "        \n",
    "        #creating the grid that the thomas algorithm will evaluate\n",
    "        x = np.linspace(0,L,n[i])\n",
    "        \n",
    "        #creating the tridiagonal matrix\n",
    "        d=-2*np.ones(n[i])\n",
    "        d[0]=1.0\n",
    "        d[n[i]-1]=1.0\n",
    "        l=np.ones(n[i]-1)\n",
    "        l[n[i]-2]=0.0\n",
    "        u=np.ones(n[i]-1)\n",
    "        u[0]=0.0\n",
    "        A=np.diag(l,-1)+np.diag(d,0)+np.diag(u,1)\n",
    "        \n",
    "        #defining the source term\n",
    "        def source(x):\n",
    "            return np.exp(-((x-a)/σ)**2)\n",
    "        \n",
    "        #creating the right hand side (called b)\n",
    "        Δx=L/(n[i]-1)\n",
    "        b=-Δx*Δx*source(x)/λ\n",
    "        b[0]=T0\n",
    "        b[n[i]-1]=TL\n",
    "        \n",
    "        Ainv = np.linalg.inv(A)\n",
    "        T=Ainv@b"
   ]
  },
  {
   "cell_type": "markdown",
   "metadata": {},
   "source": [
    "#### Calculating the time used for Ainv"
   ]
  },
  {
   "cell_type": "code",
   "execution_count": 61,
   "metadata": {},
   "outputs": [],
   "source": [
    "time_vector3=np.ones(length_n)\n",
    "for k in range (0,length_n):\n",
    "    import time\n",
    "    tic3 = time.time()\n",
    "    Ainv(x)\n",
    "    toc3 = time.time()\n",
    "    ts3 = toc3 - tic3 \n",
    "    time_vector3[k]=ts3"
   ]
  },
  {
   "cell_type": "code",
   "execution_count": 62,
   "metadata": {},
   "outputs": [
    {
     "name": "stdout",
     "output_type": "stream",
     "text": [
      "[0.07421613 0.08799171 0.09599924 0.02647781 0.02687693 0.0177319\n",
      " 0.02666211]\n"
     ]
    }
   ],
   "source": [
    "print(time_vector3)"
   ]
  },
  {
   "cell_type": "markdown",
   "metadata": {},
   "source": [
    "#### Plotting the time used vs the number of equations, using Ainv"
   ]
  },
  {
   "cell_type": "code",
   "execution_count": 63,
   "metadata": {},
   "outputs": [
    {
     "data": {
      "image/png": "[encoded data removed]",
      "text/plain": [
       "<Figure size 432x288 with 1 Axes>"
      ]
     },
     "metadata": {},
     "output_type": "display_data"
    }
   ],
   "source": [
    "%matplotlib inline\n",
    "import matplotlib.pyplot as plt\n",
    "plt.xlabel(\"# of equations\") # set x label\n",
    "plt.ylabel(\"time to solution (s)\") # set y label\n",
    "plt.loglog(n,time_vector3,\"y-\",label=\"Ainv\")\n",
    "plt.legend() # display legend\n",
    "plt.grid(True,which=\"major\") # turn on major grid axes\n",
    "plt.grid(True,which=\"minor\") # turn on minor grid axes"
   ]
  },
  {
   "cell_type": "markdown",
   "metadata": {},
   "source": [
    "#### Plotting Thomas, Python's built in solve command, and Ainv against # of equations on same plot"
   ]
  },
  {
   "cell_type": "code",
   "execution_count": 64,
   "metadata": {},
   "outputs": [
    {
     "data": {
      "image/png": "[encoded data removed]",
      "text/plain": [
       "<Figure size 432x288 with 1 Axes>"
      ]
     },
     "metadata": {},
     "output_type": "display_data"
    }
   ],
   "source": [
    "%matplotlib inline\n",
    "import matplotlib.pyplot as plt\n",
    "plt.xlabel(\"# of equations\") # set x label\n",
    "plt.ylabel(\"time to solution (s)\") # set y label\n",
    "plt.loglog(n,time_vector,\"r-\",label=\"Thomas\")\n",
    "plt.loglog(n,time_vector2,\"b-\",label=\"Pythons Built in solve command\")\n",
    "plt.loglog(n,time_vector3,\"y-\",label=\"Ainv\")\n",
    "plt.legend() # display legend\n",
    "plt.grid(True,which=\"major\") # turn on major grid axes\n",
    "plt.grid(True,which=\"minor\") # turn on minor grid axes"
   ]
  }
 ],
 "metadata": {
  "kernelspec": {
   "display_name": "Python 3",
   "language": "python",
   "name": "python3"
  }
 },
 "nbformat": 4,
 "nbformat_minor": 2
}
